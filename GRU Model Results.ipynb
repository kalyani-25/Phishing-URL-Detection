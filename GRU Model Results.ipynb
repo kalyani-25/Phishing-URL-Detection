{
 "cells": [
  {
   "cell_type": "code",
   "execution_count": 32,
   "id": "9f21050f-5e80-4cdf-b5cd-4fb7bac200d1",
   "metadata": {},
   "outputs": [],
   "source": [
    "import pandas as pd\n",
    "\n",
    "# Load your balanced dataset (after SMOTE application)\n",
    "df = pd.read_csv(\"balanced_dataset.csv\")\n"
   ]
  },
  {
   "cell_type": "code",
   "execution_count": 34,
   "id": "e5f341bf-6773-4399-849b-7ff18e62e709",
   "metadata": {},
   "outputs": [
    {
     "data": {
      "text/html": [
       "<div>\n",
       "<style scoped>\n",
       "    .dataframe tbody tr th:only-of-type {\n",
       "        vertical-align: middle;\n",
       "    }\n",
       "\n",
       "    .dataframe tbody tr th {\n",
       "        vertical-align: top;\n",
       "    }\n",
       "\n",
       "    .dataframe thead th {\n",
       "        text-align: right;\n",
       "    }\n",
       "</style>\n",
       "<table border=\"1\" class=\"dataframe\">\n",
       "  <thead>\n",
       "    <tr style=\"text-align: right;\">\n",
       "      <th></th>\n",
       "      <th>id</th>\n",
       "      <th>dateadded</th>\n",
       "      <th>url</th>\n",
       "      <th>url_status</th>\n",
       "      <th>last_online</th>\n",
       "      <th>threat</th>\n",
       "      <th>tags</th>\n",
       "      <th>urlhaus_link</th>\n",
       "      <th>reporter</th>\n",
       "      <th>Label</th>\n",
       "      <th>...</th>\n",
       "      <th>Has_Suspicious_Keyword</th>\n",
       "      <th>Has_IP</th>\n",
       "      <th>Query_Parameter_Count</th>\n",
       "      <th>Has_Port</th>\n",
       "      <th>Num_Path_Segments</th>\n",
       "      <th>Has_HTTPS</th>\n",
       "      <th>Has_URL_Shortener</th>\n",
       "      <th>digit_letter_ratio</th>\n",
       "      <th>has_encoded_chars</th>\n",
       "      <th>https_www_combo</th>\n",
       "    </tr>\n",
       "  </thead>\n",
       "  <tbody>\n",
       "    <tr>\n",
       "      <th>0</th>\n",
       "      <td>3230050</td>\n",
       "      <td>2024-10-11 12:23:33</td>\n",
       "      <td>http://117.209.4.108:57478/bin.sh</td>\n",
       "      <td>offline</td>\n",
       "      <td>2024-10-11 12:23:33</td>\n",
       "      <td>malware_download</td>\n",
       "      <td>32-bit,elf,mips,Mozi</td>\n",
       "      <td>https://urlhaus.abuse.ch/url/3230050/</td>\n",
       "      <td>geenensp</td>\n",
       "      <td>1</td>\n",
       "      <td>...</td>\n",
       "      <td>0</td>\n",
       "      <td>1</td>\n",
       "      <td>0</td>\n",
       "      <td>0</td>\n",
       "      <td>1</td>\n",
       "      <td>0</td>\n",
       "      <td>0</td>\n",
       "      <td>1.666666</td>\n",
       "      <td>0</td>\n",
       "      <td>0</td>\n",
       "    </tr>\n",
       "    <tr>\n",
       "      <th>1</th>\n",
       "      <td>3177228</td>\n",
       "      <td>2024-09-16 19:43:06</td>\n",
       "      <td>http://154.216.18.121/.c/loginclientbot</td>\n",
       "      <td>offline</td>\n",
       "      <td>2024-09-20 07:22:27</td>\n",
       "      <td>malware_download</td>\n",
       "      <td>elf,ladvix,opendir</td>\n",
       "      <td>https://urlhaus.abuse.ch/url/3177228/</td>\n",
       "      <td>NDA0E</td>\n",
       "      <td>1</td>\n",
       "      <td>...</td>\n",
       "      <td>1</td>\n",
       "      <td>1</td>\n",
       "      <td>0</td>\n",
       "      <td>0</td>\n",
       "      <td>2</td>\n",
       "      <td>0</td>\n",
       "      <td>0</td>\n",
       "      <td>0.578947</td>\n",
       "      <td>0</td>\n",
       "      <td>0</td>\n",
       "    </tr>\n",
       "    <tr>\n",
       "      <th>2</th>\n",
       "      <td>815</td>\n",
       "      <td>2024-11-30 02:10:35</td>\n",
       "      <td>zoho.com</td>\n",
       "      <td>online</td>\n",
       "      <td>2024-11-30 02:10:35</td>\n",
       "      <td>legitimate</td>\n",
       "      <td>none</td>\n",
       "      <td>NaN</td>\n",
       "      <td>Tranco-58PNN</td>\n",
       "      <td>0</td>\n",
       "      <td>...</td>\n",
       "      <td>0</td>\n",
       "      <td>0</td>\n",
       "      <td>0</td>\n",
       "      <td>0</td>\n",
       "      <td>0</td>\n",
       "      <td>-1</td>\n",
       "      <td>0</td>\n",
       "      <td>0.000000</td>\n",
       "      <td>0</td>\n",
       "      <td>0</td>\n",
       "    </tr>\n",
       "    <tr>\n",
       "      <th>3</th>\n",
       "      <td>792779</td>\n",
       "      <td>2024-11-30 02:10:35</td>\n",
       "      <td>kp-velenje.si</td>\n",
       "      <td>online</td>\n",
       "      <td>2024-11-30 02:10:35</td>\n",
       "      <td>legitimate</td>\n",
       "      <td>none</td>\n",
       "      <td>NaN</td>\n",
       "      <td>Tranco-58PNN</td>\n",
       "      <td>0</td>\n",
       "      <td>...</td>\n",
       "      <td>0</td>\n",
       "      <td>0</td>\n",
       "      <td>0</td>\n",
       "      <td>0</td>\n",
       "      <td>0</td>\n",
       "      <td>-1</td>\n",
       "      <td>0</td>\n",
       "      <td>0.000000</td>\n",
       "      <td>0</td>\n",
       "      <td>0</td>\n",
       "    </tr>\n",
       "    <tr>\n",
       "      <th>4</th>\n",
       "      <td>3157557</td>\n",
       "      <td>2024-09-05 06:43:05</td>\n",
       "      <td>http://119.117.99.166:41825/i</td>\n",
       "      <td>offline</td>\n",
       "      <td>2024-09-10 05:51:25</td>\n",
       "      <td>malware_download</td>\n",
       "      <td>32-bit,elf,mips,Mozi</td>\n",
       "      <td>https://urlhaus.abuse.ch/url/3157557/</td>\n",
       "      <td>geenensp</td>\n",
       "      <td>1</td>\n",
       "      <td>...</td>\n",
       "      <td>0</td>\n",
       "      <td>1</td>\n",
       "      <td>0</td>\n",
       "      <td>0</td>\n",
       "      <td>1</td>\n",
       "      <td>0</td>\n",
       "      <td>0</td>\n",
       "      <td>3.199999</td>\n",
       "      <td>0</td>\n",
       "      <td>0</td>\n",
       "    </tr>\n",
       "  </tbody>\n",
       "</table>\n",
       "<p>5 rows × 27 columns</p>\n",
       "</div>"
      ],
      "text/plain": [
       "        id            dateadded                                      url  \\\n",
       "0  3230050  2024-10-11 12:23:33        http://117.209.4.108:57478/bin.sh   \n",
       "1  3177228  2024-09-16 19:43:06  http://154.216.18.121/.c/loginclientbot   \n",
       "2      815  2024-11-30 02:10:35                                 zoho.com   \n",
       "3   792779  2024-11-30 02:10:35                            kp-velenje.si   \n",
       "4  3157557  2024-09-05 06:43:05            http://119.117.99.166:41825/i   \n",
       "\n",
       "  url_status          last_online            threat                  tags  \\\n",
       "0    offline  2024-10-11 12:23:33  malware_download  32-bit,elf,mips,Mozi   \n",
       "1    offline  2024-09-20 07:22:27  malware_download    elf,ladvix,opendir   \n",
       "2     online  2024-11-30 02:10:35        legitimate                  none   \n",
       "3     online  2024-11-30 02:10:35        legitimate                  none   \n",
       "4    offline  2024-09-10 05:51:25  malware_download  32-bit,elf,mips,Mozi   \n",
       "\n",
       "                            urlhaus_link      reporter  Label  ...  \\\n",
       "0  https://urlhaus.abuse.ch/url/3230050/      geenensp      1  ...   \n",
       "1  https://urlhaus.abuse.ch/url/3177228/         NDA0E      1  ...   \n",
       "2                                    NaN  Tranco-58PNN      0  ...   \n",
       "3                                    NaN  Tranco-58PNN      0  ...   \n",
       "4  https://urlhaus.abuse.ch/url/3157557/      geenensp      1  ...   \n",
       "\n",
       "   Has_Suspicious_Keyword  Has_IP  Query_Parameter_Count  Has_Port  \\\n",
       "0                       0       1                      0         0   \n",
       "1                       1       1                      0         0   \n",
       "2                       0       0                      0         0   \n",
       "3                       0       0                      0         0   \n",
       "4                       0       1                      0         0   \n",
       "\n",
       "   Num_Path_Segments  Has_HTTPS  Has_URL_Shortener  digit_letter_ratio  \\\n",
       "0                  1          0                  0            1.666666   \n",
       "1                  2          0                  0            0.578947   \n",
       "2                  0         -1                  0            0.000000   \n",
       "3                  0         -1                  0            0.000000   \n",
       "4                  1          0                  0            3.199999   \n",
       "\n",
       "   has_encoded_chars  https_www_combo  \n",
       "0                  0                0  \n",
       "1                  0                0  \n",
       "2                  0                0  \n",
       "3                  0                0  \n",
       "4                  0                0  \n",
       "\n",
       "[5 rows x 27 columns]"
      ]
     },
     "execution_count": 34,
     "metadata": {},
     "output_type": "execute_result"
    }
   ],
   "source": [
    "df.head()"
   ]
  },
  {
   "cell_type": "code",
   "execution_count": 36,
   "id": "b841937f-db64-4f13-b351-2bd2150d8afe",
   "metadata": {},
   "outputs": [
    {
     "name": "stdout",
     "output_type": "stream",
     "text": [
      "Remaining columns in the DataFrame:\n",
      "Index(['id', 'dateadded', 'url', 'url_status', 'last_online', 'threat',\n",
      "       'reporter', 'Label', 'URL_Length', 'URL_Depth', 'Have_At',\n",
      "       'Have_Percent', 'Have_Equals', 'Have_QuestionMark', 'Num_Subdomains',\n",
      "       'Has_Suspicious_Keyword', 'Has_IP', 'Query_Parameter_Count', 'Has_Port',\n",
      "       'Num_Path_Segments', 'Has_HTTPS', 'Has_URL_Shortener',\n",
      "       'digit_letter_ratio', 'has_encoded_chars', 'https_www_combo'],\n",
      "      dtype='object')\n"
     ]
    }
   ],
   "source": [
    "# Remove the 'urlhaus_link' and 'tags' columns\n",
    "df = df.drop(columns=['urlhaus_link', 'tags'])\n",
    "\n",
    "# Verify the columns have been removed\n",
    "print(\"Remaining columns in the DataFrame:\")\n",
    "print(df.columns)\n"
   ]
  },
  {
   "cell_type": "code",
   "execution_count": 38,
   "id": "0bd08dea-b0de-4927-a78f-0cb5b853ded7",
   "metadata": {},
   "outputs": [
    {
     "data": {
      "text/html": [
       "<div>\n",
       "<style scoped>\n",
       "    .dataframe tbody tr th:only-of-type {\n",
       "        vertical-align: middle;\n",
       "    }\n",
       "\n",
       "    .dataframe tbody tr th {\n",
       "        vertical-align: top;\n",
       "    }\n",
       "\n",
       "    .dataframe thead th {\n",
       "        text-align: right;\n",
       "    }\n",
       "</style>\n",
       "<table border=\"1\" class=\"dataframe\">\n",
       "  <thead>\n",
       "    <tr style=\"text-align: right;\">\n",
       "      <th></th>\n",
       "      <th>id</th>\n",
       "      <th>dateadded</th>\n",
       "      <th>url</th>\n",
       "      <th>url_status</th>\n",
       "      <th>last_online</th>\n",
       "      <th>threat</th>\n",
       "      <th>reporter</th>\n",
       "      <th>Label</th>\n",
       "      <th>URL_Length</th>\n",
       "      <th>URL_Depth</th>\n",
       "      <th>...</th>\n",
       "      <th>Has_Suspicious_Keyword</th>\n",
       "      <th>Has_IP</th>\n",
       "      <th>Query_Parameter_Count</th>\n",
       "      <th>Has_Port</th>\n",
       "      <th>Num_Path_Segments</th>\n",
       "      <th>Has_HTTPS</th>\n",
       "      <th>Has_URL_Shortener</th>\n",
       "      <th>digit_letter_ratio</th>\n",
       "      <th>has_encoded_chars</th>\n",
       "      <th>https_www_combo</th>\n",
       "    </tr>\n",
       "  </thead>\n",
       "  <tbody>\n",
       "    <tr>\n",
       "      <th>0</th>\n",
       "      <td>3230050</td>\n",
       "      <td>2024-10-11 12:23:33</td>\n",
       "      <td>http://117.209.4.108:57478/bin.sh</td>\n",
       "      <td>offline</td>\n",
       "      <td>2024-10-11 12:23:33</td>\n",
       "      <td>malware_download</td>\n",
       "      <td>geenensp</td>\n",
       "      <td>1</td>\n",
       "      <td>33</td>\n",
       "      <td>3</td>\n",
       "      <td>...</td>\n",
       "      <td>0</td>\n",
       "      <td>1</td>\n",
       "      <td>0</td>\n",
       "      <td>0</td>\n",
       "      <td>1</td>\n",
       "      <td>0</td>\n",
       "      <td>0</td>\n",
       "      <td>1.666666</td>\n",
       "      <td>0</td>\n",
       "      <td>0</td>\n",
       "    </tr>\n",
       "    <tr>\n",
       "      <th>1</th>\n",
       "      <td>3177228</td>\n",
       "      <td>2024-09-16 19:43:06</td>\n",
       "      <td>http://154.216.18.121/.c/loginclientbot</td>\n",
       "      <td>offline</td>\n",
       "      <td>2024-09-20 07:22:27</td>\n",
       "      <td>malware_download</td>\n",
       "      <td>NDA0E</td>\n",
       "      <td>1</td>\n",
       "      <td>39</td>\n",
       "      <td>4</td>\n",
       "      <td>...</td>\n",
       "      <td>1</td>\n",
       "      <td>1</td>\n",
       "      <td>0</td>\n",
       "      <td>0</td>\n",
       "      <td>2</td>\n",
       "      <td>0</td>\n",
       "      <td>0</td>\n",
       "      <td>0.578947</td>\n",
       "      <td>0</td>\n",
       "      <td>0</td>\n",
       "    </tr>\n",
       "    <tr>\n",
       "      <th>2</th>\n",
       "      <td>815</td>\n",
       "      <td>2024-11-30 02:10:35</td>\n",
       "      <td>zoho.com</td>\n",
       "      <td>online</td>\n",
       "      <td>2024-11-30 02:10:35</td>\n",
       "      <td>legitimate</td>\n",
       "      <td>Tranco-58PNN</td>\n",
       "      <td>0</td>\n",
       "      <td>8</td>\n",
       "      <td>0</td>\n",
       "      <td>...</td>\n",
       "      <td>0</td>\n",
       "      <td>0</td>\n",
       "      <td>0</td>\n",
       "      <td>0</td>\n",
       "      <td>0</td>\n",
       "      <td>-1</td>\n",
       "      <td>0</td>\n",
       "      <td>0.000000</td>\n",
       "      <td>0</td>\n",
       "      <td>0</td>\n",
       "    </tr>\n",
       "    <tr>\n",
       "      <th>3</th>\n",
       "      <td>792779</td>\n",
       "      <td>2024-11-30 02:10:35</td>\n",
       "      <td>kp-velenje.si</td>\n",
       "      <td>online</td>\n",
       "      <td>2024-11-30 02:10:35</td>\n",
       "      <td>legitimate</td>\n",
       "      <td>Tranco-58PNN</td>\n",
       "      <td>0</td>\n",
       "      <td>13</td>\n",
       "      <td>0</td>\n",
       "      <td>...</td>\n",
       "      <td>0</td>\n",
       "      <td>0</td>\n",
       "      <td>0</td>\n",
       "      <td>0</td>\n",
       "      <td>0</td>\n",
       "      <td>-1</td>\n",
       "      <td>0</td>\n",
       "      <td>0.000000</td>\n",
       "      <td>0</td>\n",
       "      <td>0</td>\n",
       "    </tr>\n",
       "    <tr>\n",
       "      <th>4</th>\n",
       "      <td>3157557</td>\n",
       "      <td>2024-09-05 06:43:05</td>\n",
       "      <td>http://119.117.99.166:41825/i</td>\n",
       "      <td>offline</td>\n",
       "      <td>2024-09-10 05:51:25</td>\n",
       "      <td>malware_download</td>\n",
       "      <td>geenensp</td>\n",
       "      <td>1</td>\n",
       "      <td>29</td>\n",
       "      <td>3</td>\n",
       "      <td>...</td>\n",
       "      <td>0</td>\n",
       "      <td>1</td>\n",
       "      <td>0</td>\n",
       "      <td>0</td>\n",
       "      <td>1</td>\n",
       "      <td>0</td>\n",
       "      <td>0</td>\n",
       "      <td>3.199999</td>\n",
       "      <td>0</td>\n",
       "      <td>0</td>\n",
       "    </tr>\n",
       "  </tbody>\n",
       "</table>\n",
       "<p>5 rows × 25 columns</p>\n",
       "</div>"
      ],
      "text/plain": [
       "        id            dateadded                                      url  \\\n",
       "0  3230050  2024-10-11 12:23:33        http://117.209.4.108:57478/bin.sh   \n",
       "1  3177228  2024-09-16 19:43:06  http://154.216.18.121/.c/loginclientbot   \n",
       "2      815  2024-11-30 02:10:35                                 zoho.com   \n",
       "3   792779  2024-11-30 02:10:35                            kp-velenje.si   \n",
       "4  3157557  2024-09-05 06:43:05            http://119.117.99.166:41825/i   \n",
       "\n",
       "  url_status          last_online            threat      reporter  Label  \\\n",
       "0    offline  2024-10-11 12:23:33  malware_download      geenensp      1   \n",
       "1    offline  2024-09-20 07:22:27  malware_download         NDA0E      1   \n",
       "2     online  2024-11-30 02:10:35        legitimate  Tranco-58PNN      0   \n",
       "3     online  2024-11-30 02:10:35        legitimate  Tranco-58PNN      0   \n",
       "4    offline  2024-09-10 05:51:25  malware_download      geenensp      1   \n",
       "\n",
       "   URL_Length  URL_Depth  ...  Has_Suspicious_Keyword  Has_IP  \\\n",
       "0          33          3  ...                       0       1   \n",
       "1          39          4  ...                       1       1   \n",
       "2           8          0  ...                       0       0   \n",
       "3          13          0  ...                       0       0   \n",
       "4          29          3  ...                       0       1   \n",
       "\n",
       "   Query_Parameter_Count  Has_Port  Num_Path_Segments  Has_HTTPS  \\\n",
       "0                      0         0                  1          0   \n",
       "1                      0         0                  2          0   \n",
       "2                      0         0                  0         -1   \n",
       "3                      0         0                  0         -1   \n",
       "4                      0         0                  1          0   \n",
       "\n",
       "   Has_URL_Shortener  digit_letter_ratio  has_encoded_chars  https_www_combo  \n",
       "0                  0            1.666666                  0                0  \n",
       "1                  0            0.578947                  0                0  \n",
       "2                  0            0.000000                  0                0  \n",
       "3                  0            0.000000                  0                0  \n",
       "4                  0            3.199999                  0                0  \n",
       "\n",
       "[5 rows x 25 columns]"
      ]
     },
     "execution_count": 38,
     "metadata": {},
     "output_type": "execute_result"
    }
   ],
   "source": [
    "df.head()"
   ]
  },
  {
   "cell_type": "code",
   "execution_count": 40,
   "id": "99f7a39e-6f2c-476c-a7dd-8117142599b8",
   "metadata": {},
   "outputs": [
    {
     "name": "stdout",
     "output_type": "stream",
     "text": [
      "id                          int64\n",
      "dateadded                   int64\n",
      "url                        object\n",
      "url_status                  int64\n",
      "last_online                 int64\n",
      "threat                      int64\n",
      "reporter                    int64\n",
      "Label                       int64\n",
      "URL_Length                  int64\n",
      "URL_Depth                   int64\n",
      "Have_At                     int64\n",
      "Have_Percent                int64\n",
      "Have_Equals                 int64\n",
      "Have_QuestionMark           int64\n",
      "Num_Subdomains              int64\n",
      "Has_Suspicious_Keyword      int64\n",
      "Has_IP                      int64\n",
      "Query_Parameter_Count       int64\n",
      "Has_Port                    int64\n",
      "Num_Path_Segments           int64\n",
      "Has_HTTPS                   int64\n",
      "Has_URL_Shortener           int64\n",
      "digit_letter_ratio        float64\n",
      "has_encoded_chars           int64\n",
      "https_www_combo             int64\n",
      "dtype: object\n",
      "       id  dateadded                                                url  \\\n",
      "0  266610      63538  [2, 8, 25, 141, 287, 13904, 5, 4, 0, 0, 0, 0, ...   \n",
      "1  214860      28998  [2, 38, 36, 175, 82, 453, 17779, 0, 0, 0, 0, 0...   \n",
      "2     148     120914  [17780, 3, 0, 0, 0, 0, 0, 0, 0, 0, 0, 0, 0, 0,...   \n",
      "3  138073     120914  [8089, 36873, 780, 0, 0, 0, 0, 0, 0, 0, 0, 0, ...   \n",
      "4  196428      14306  [2, 50, 8, 129, 289, 11344, 6, 0, 0, 0, 0, 0, ...   \n",
      "\n",
      "   url_status  last_online  threat  reporter  Label  URL_Length  URL_Depth  \\\n",
      "0           0        64374       1        65      1          33          3   \n",
      "1           0        33022       1        32      1          39          4   \n",
      "2           1       141288       0        44      0           8          0   \n",
      "3           1       141288       0        44      0          13          0   \n",
      "4           0        19411       1        65      1          29          3   \n",
      "\n",
      "   ...  Has_Suspicious_Keyword  Has_IP  Query_Parameter_Count  Has_Port  \\\n",
      "0  ...                       0       1                      0         0   \n",
      "1  ...                       1       1                      0         0   \n",
      "2  ...                       0       0                      0         0   \n",
      "3  ...                       0       0                      0         0   \n",
      "4  ...                       0       1                      0         0   \n",
      "\n",
      "   Num_Path_Segments  Has_HTTPS  Has_URL_Shortener  digit_letter_ratio  \\\n",
      "0                  1          0                  0            1.666666   \n",
      "1                  2          0                  0            0.578947   \n",
      "2                  0         -1                  0            0.000000   \n",
      "3                  0         -1                  0            0.000000   \n",
      "4                  1          0                  0            3.199999   \n",
      "\n",
      "   has_encoded_chars  https_www_combo  \n",
      "0                  0                0  \n",
      "1                  0                0  \n",
      "2                  0                0  \n",
      "3                  0                0  \n",
      "4                  0                0  \n",
      "\n",
      "[5 rows x 25 columns]\n"
     ]
    }
   ],
   "source": [
    "from sklearn.preprocessing import LabelEncoder\n",
    "from tensorflow.keras.preprocessing.text import Tokenizer\n",
    "from tensorflow.keras.preprocessing.sequence import pad_sequences\n",
    "\n",
    "# Identify categorical columns (excluding 'url')\n",
    "categorical_columns = ['id', 'dateadded', 'url_status', 'last_online', 'threat', 'reporter']\n",
    "\n",
    "# Encode categorical columns\n",
    "label_encoders = {}\n",
    "for col in categorical_columns:\n",
    "    encoder = LabelEncoder()\n",
    "    df[col] = encoder.fit_transform(df[col])\n",
    "    label_encoders[col] = encoder  # Save encoder for future use (optional)\n",
    "\n",
    "# Tokenize 'url' column\n",
    "tokenizer = Tokenizer(oov_token=\"<OOV>\")  # Handles unknown tokens\n",
    "tokenizer.fit_on_texts(df['url'])\n",
    "\n",
    "# Convert URLs to sequences\n",
    "df['url'] = tokenizer.texts_to_sequences(df['url'])\n",
    "\n",
    "# Pad sequences to ensure consistent length\n",
    "max_length = max(df['url'].apply(len))  # Find the longest URL sequence\n",
    "df['url'] = pad_sequences(df['url'], maxlen=max_length, padding='post').tolist()\n",
    "\n",
    "# Verify data types of all columns\n",
    "print(df.dtypes)\n",
    "\n",
    "# Convert all columns except 'url' to numeric if necessary\n",
    "numeric_columns = df.columns.difference(['url'])\n",
    "df[numeric_columns] = df[numeric_columns].apply(pd.to_numeric)\n",
    "\n",
    "# Display the first few rows of the processed DataFrame\n",
    "print(df.head())\n"
   ]
  },
  {
   "cell_type": "code",
   "execution_count": 42,
   "id": "79096f10-ae80-434e-82b6-56949f75101c",
   "metadata": {},
   "outputs": [
    {
     "name": "stdout",
     "output_type": "stream",
     "text": [
      "       id  dateadded  url_status  last_online  threat  reporter  Label  \\\n",
      "0  266610      63538           0        64374       1        65      1   \n",
      "1  214860      28998           0        33022       1        32      1   \n",
      "2     148     120914           1       141288       0        44      0   \n",
      "3  138073     120914           1       141288       0        44      0   \n",
      "4  196428      14306           0        19411       1        65      1   \n",
      "\n",
      "   URL_Length  URL_Depth  Have_At  ...  url_token_80  url_token_81  \\\n",
      "0          33          3        0  ...             0             0   \n",
      "1          39          4        0  ...             0             0   \n",
      "2           8          0        0  ...             0             0   \n",
      "3          13          0        0  ...             0             0   \n",
      "4          29          3        0  ...             0             0   \n",
      "\n",
      "   url_token_82  url_token_83  url_token_84  url_token_85  url_token_86  \\\n",
      "0             0             0             0             0             0   \n",
      "1             0             0             0             0             0   \n",
      "2             0             0             0             0             0   \n",
      "3             0             0             0             0             0   \n",
      "4             0             0             0             0             0   \n",
      "\n",
      "   url_token_87  url_token_88  url_token_89  \n",
      "0             0             0             0  \n",
      "1             0             0             0  \n",
      "2             0             0             0  \n",
      "3             0             0             0  \n",
      "4             0             0             0  \n",
      "\n",
      "[5 rows x 114 columns]\n"
     ]
    }
   ],
   "source": [
    "import pandas as pd\n",
    "\n",
    "# Convert 'Has_URL_Shortener' to integer\n",
    "df['Has_URL_Shortener'] = df['Has_URL_Shortener'].astype(int)\n",
    "\n",
    "# Expand the 'url' column (list of integers) into multiple integer columns\n",
    "# Find the max length of sequences in the 'url' column\n",
    "max_url_length = max(df['url'].apply(len))\n",
    "\n",
    "# Create new columns for each token in the URL sequence\n",
    "url_columns = [f'url_token_{i}' for i in range(max_url_length)]\n",
    "url_data = pd.DataFrame(df['url'].tolist(), columns=url_columns, index=df.index)\n",
    "\n",
    "# Concatenate the new token columns with the original DataFrame\n",
    "df = pd.concat([df.drop(columns=['url']), url_data], axis=1)\n",
    "\n",
    "# Ensure all columns are integers\n",
    "df = df.astype(int)\n",
    "\n",
    "# Verify the transformation\n",
    "print(df.head())\n"
   ]
  },
  {
   "cell_type": "code",
   "execution_count": 44,
   "id": "57f5db03-cdde-426f-91cf-2c3f907a5c8c",
   "metadata": {},
   "outputs": [],
   "source": [
    "# Define input features and target label\n",
    "X = df.drop(columns=['Label'])  # Drop the target column\n",
    "y = df['Label']  # Target column\n"
   ]
  },
  {
   "cell_type": "code",
   "execution_count": 46,
   "id": "27d99edd-6a0f-4f18-9612-c5547ca6fb52",
   "metadata": {},
   "outputs": [],
   "source": [
    "from sklearn.model_selection import train_test_split\n",
    "\n",
    "# Split data: 70% training, 15% validation, 15% testing\n",
    "X_train, X_temp, y_train, y_temp = train_test_split(X, y, test_size=0.3, random_state=42)\n",
    "X_val, X_test, y_val, y_test = train_test_split(X_temp, y_temp, test_size=0.5, random_state=42)\n"
   ]
  },
  {
   "cell_type": "code",
   "execution_count": 48,
   "id": "72b95947-b5f4-4b63-ac68-9b7ec3706b5e",
   "metadata": {},
   "outputs": [
    {
     "name": "stdout",
     "output_type": "stream",
     "text": [
      "Number of overlapping IDs between training and validation sets: 3\n"
     ]
    }
   ],
   "source": [
    "# Find the overlapping IDs between training and validation sets\n",
    "overlapping_ids = set(X_train['id']).intersection(set(X_val['id']))\n",
    "\n",
    "# Count the number of overlapping IDs\n",
    "num_overlapping_ids = len(overlapping_ids)\n",
    "\n",
    "print(f\"Number of overlapping IDs between training and validation sets: {num_overlapping_ids}\")\n"
   ]
  },
  {
   "cell_type": "code",
   "execution_count": 57,
   "id": "c171455f-b542-461a-98f1-e56a6da01660",
   "metadata": {},
   "outputs": [
    {
     "name": "stdout",
     "output_type": "stream",
     "text": [
      "New Validation set size: 52163\n"
     ]
    }
   ],
   "source": [
    "# Remove overlapping IDs from the validation set\n",
    "X_val_cleaned = X_val[~X_val['id'].isin(overlapping_ids)]\n",
    "y_val_cleaned = y_val[X_val_cleaned.index]\n",
    "\n",
    "print(f\"New Validation set size: {len(X_val_cleaned)}\")\n"
   ]
  },
  {
   "cell_type": "code",
   "execution_count": 59,
   "id": "bc466ea1-8ffe-4efd-853b-a9c8d461f9c1",
   "metadata": {},
   "outputs": [
    {
     "name": "stdout",
     "output_type": "stream",
     "text": [
      "Overlapping IDs still exist: 3\n"
     ]
    }
   ],
   "source": [
    "# Check for overlapping IDs between training and validation sets\n",
    "remaining_overlaps = set(X_train['id']).intersection(set(X_val['id']))\n",
    "\n",
    "# Print the number of overlaps\n",
    "if len(remaining_overlaps) > 0:\n",
    "    print(f\"Overlapping IDs still exist: {len(remaining_overlaps)}\")\n",
    "else:\n",
    "    print(\"No overlapping IDs between training and validation sets.\")\n"
   ]
  },
  {
   "cell_type": "code",
   "execution_count": 61,
   "id": "8ade80eb-b8b5-4f28-a18f-012a4cf2a42c",
   "metadata": {},
   "outputs": [
    {
     "name": "stdout",
     "output_type": "stream",
     "text": [
      "No overlapping IDs between training and cleaned validation sets.\n"
     ]
    }
   ],
   "source": [
    "# Find overlapping IDs\n",
    "overlapping_ids = set(X_train['id']).intersection(set(X_val['id']))\n",
    "\n",
    "# Remove overlapping records from the validation set\n",
    "X_val_cleaned = X_val[~X_val['id'].isin(overlapping_ids)]\n",
    "y_val_cleaned = y_val[X_val_cleaned.index]\n",
    "\n",
    "# Verify no overlaps remain\n",
    "remaining_overlaps = set(X_train['id']).intersection(set(X_val_cleaned['id']))\n",
    "\n",
    "# Check and print results\n",
    "if len(remaining_overlaps) > 0:\n",
    "    print(f\"Overlapping IDs still exist after cleaning: {len(remaining_overlaps)}\")\n",
    "else:\n",
    "    print(\"No overlapping IDs between training and cleaned validation sets.\")\n"
   ]
  },
  {
   "cell_type": "code",
   "execution_count": 63,
   "id": "0cdd200e-520b-43bb-bbd1-f2ed83ca3a87",
   "metadata": {},
   "outputs": [
    {
     "name": "stdout",
     "output_type": "stream",
     "text": [
      "Training set size: 243441\n",
      "Validation set size (cleaned): 52163\n",
      "Testing set size: 52167\n"
     ]
    }
   ],
   "source": [
    "# Print dataset sizes\n",
    "print(f\"Training set size: {len(X_train)}\")\n",
    "print(f\"Validation set size (cleaned): {len(X_val_cleaned)}\")\n",
    "print(f\"Testing set size: {len(X_test)}\")\n"
   ]
  },
  {
   "cell_type": "code",
   "execution_count": 65,
   "id": "27d91d99-612c-4062-91d4-6f14c056820b",
   "metadata": {},
   "outputs": [
    {
     "name": "stdout",
     "output_type": "stream",
     "text": [
      "Training set class distribution:\n",
      "Label\n",
      "1    121745\n",
      "0    121696\n",
      "Name: count, dtype: int64\n",
      "\n",
      "Validation set class distribution:\n",
      "Label\n",
      "0    26134\n",
      "1    26029\n",
      "Name: count, dtype: int64\n",
      "\n",
      "Testing set class distribution:\n",
      "Label\n",
      "1    26110\n",
      "0    26057\n",
      "Name: count, dtype: int64\n"
     ]
    }
   ],
   "source": [
    "print(\"Training set class distribution:\")\n",
    "print(y_train.value_counts())\n",
    "\n",
    "print(\"\\nValidation set class distribution:\")\n",
    "print(y_val_cleaned.value_counts())\n",
    "\n",
    "print(\"\\nTesting set class distribution:\")\n",
    "print(y_test.value_counts())\n"
   ]
  },
  {
   "cell_type": "code",
   "execution_count": 67,
   "id": "f1e7f40f-4314-4b4a-8bab-e1750a215d18",
   "metadata": {},
   "outputs": [
    {
     "name": "stderr",
     "output_type": "stream",
     "text": [
      "/opt/anaconda3/lib/python3.12/site-packages/keras/src/layers/rnn/rnn.py:200: UserWarning: Do not pass an `input_shape`/`input_dim` argument to a layer. When using Sequential models, prefer using an `Input(shape)` object as the first layer in the model instead.\n",
      "  super().__init__(**kwargs)\n"
     ]
    },
    {
     "data": {
      "text/html": [
       "<pre style=\"white-space:pre;overflow-x:auto;line-height:normal;font-family:Menlo,'DejaVu Sans Mono',consolas,'Courier New',monospace\"><span style=\"font-weight: bold\">Model: \"sequential_1\"</span>\n",
       "</pre>\n"
      ],
      "text/plain": [
       "\u001b[1mModel: \"sequential_1\"\u001b[0m\n"
      ]
     },
     "metadata": {},
     "output_type": "display_data"
    },
    {
     "data": {
      "text/html": [
       "<pre style=\"white-space:pre;overflow-x:auto;line-height:normal;font-family:Menlo,'DejaVu Sans Mono',consolas,'Courier New',monospace\">┏━━━━━━━━━━━━━━━━━━━━━━━━━━━━━━━━━┳━━━━━━━━━━━━━━━━━━━━━━━━┳━━━━━━━━━━━━━━━┓\n",
       "┃<span style=\"font-weight: bold\"> Layer (type)                    </span>┃<span style=\"font-weight: bold\"> Output Shape           </span>┃<span style=\"font-weight: bold\">       Param # </span>┃\n",
       "┡━━━━━━━━━━━━━━━━━━━━━━━━━━━━━━━━━╇━━━━━━━━━━━━━━━━━━━━━━━━╇━━━━━━━━━━━━━━━┩\n",
       "│ gru_2 (<span style=\"color: #0087ff; text-decoration-color: #0087ff\">GRU</span>)                     │ (<span style=\"color: #00d7ff; text-decoration-color: #00d7ff\">None</span>, <span style=\"color: #00af00; text-decoration-color: #00af00\">113</span>, <span style=\"color: #00af00; text-decoration-color: #00af00\">128</span>)       │        <span style=\"color: #00af00; text-decoration-color: #00af00\">50,304</span> │\n",
       "├─────────────────────────────────┼────────────────────────┼───────────────┤\n",
       "│ dropout_2 (<span style=\"color: #0087ff; text-decoration-color: #0087ff\">Dropout</span>)             │ (<span style=\"color: #00d7ff; text-decoration-color: #00d7ff\">None</span>, <span style=\"color: #00af00; text-decoration-color: #00af00\">113</span>, <span style=\"color: #00af00; text-decoration-color: #00af00\">128</span>)       │             <span style=\"color: #00af00; text-decoration-color: #00af00\">0</span> │\n",
       "├─────────────────────────────────┼────────────────────────┼───────────────┤\n",
       "│ gru_3 (<span style=\"color: #0087ff; text-decoration-color: #0087ff\">GRU</span>)                     │ (<span style=\"color: #00d7ff; text-decoration-color: #00d7ff\">None</span>, <span style=\"color: #00af00; text-decoration-color: #00af00\">64</span>)             │        <span style=\"color: #00af00; text-decoration-color: #00af00\">37,248</span> │\n",
       "├─────────────────────────────────┼────────────────────────┼───────────────┤\n",
       "│ dropout_3 (<span style=\"color: #0087ff; text-decoration-color: #0087ff\">Dropout</span>)             │ (<span style=\"color: #00d7ff; text-decoration-color: #00d7ff\">None</span>, <span style=\"color: #00af00; text-decoration-color: #00af00\">64</span>)             │             <span style=\"color: #00af00; text-decoration-color: #00af00\">0</span> │\n",
       "├─────────────────────────────────┼────────────────────────┼───────────────┤\n",
       "│ dense_1 (<span style=\"color: #0087ff; text-decoration-color: #0087ff\">Dense</span>)                 │ (<span style=\"color: #00d7ff; text-decoration-color: #00d7ff\">None</span>, <span style=\"color: #00af00; text-decoration-color: #00af00\">1</span>)              │            <span style=\"color: #00af00; text-decoration-color: #00af00\">65</span> │\n",
       "└─────────────────────────────────┴────────────────────────┴───────────────┘\n",
       "</pre>\n"
      ],
      "text/plain": [
       "┏━━━━━━━━━━━━━━━━━━━━━━━━━━━━━━━━━┳━━━━━━━━━━━━━━━━━━━━━━━━┳━━━━━━━━━━━━━━━┓\n",
       "┃\u001b[1m \u001b[0m\u001b[1mLayer (type)                   \u001b[0m\u001b[1m \u001b[0m┃\u001b[1m \u001b[0m\u001b[1mOutput Shape          \u001b[0m\u001b[1m \u001b[0m┃\u001b[1m \u001b[0m\u001b[1m      Param #\u001b[0m\u001b[1m \u001b[0m┃\n",
       "┡━━━━━━━━━━━━━━━━━━━━━━━━━━━━━━━━━╇━━━━━━━━━━━━━━━━━━━━━━━━╇━━━━━━━━━━━━━━━┩\n",
       "│ gru_2 (\u001b[38;5;33mGRU\u001b[0m)                     │ (\u001b[38;5;45mNone\u001b[0m, \u001b[38;5;34m113\u001b[0m, \u001b[38;5;34m128\u001b[0m)       │        \u001b[38;5;34m50,304\u001b[0m │\n",
       "├─────────────────────────────────┼────────────────────────┼───────────────┤\n",
       "│ dropout_2 (\u001b[38;5;33mDropout\u001b[0m)             │ (\u001b[38;5;45mNone\u001b[0m, \u001b[38;5;34m113\u001b[0m, \u001b[38;5;34m128\u001b[0m)       │             \u001b[38;5;34m0\u001b[0m │\n",
       "├─────────────────────────────────┼────────────────────────┼───────────────┤\n",
       "│ gru_3 (\u001b[38;5;33mGRU\u001b[0m)                     │ (\u001b[38;5;45mNone\u001b[0m, \u001b[38;5;34m64\u001b[0m)             │        \u001b[38;5;34m37,248\u001b[0m │\n",
       "├─────────────────────────────────┼────────────────────────┼───────────────┤\n",
       "│ dropout_3 (\u001b[38;5;33mDropout\u001b[0m)             │ (\u001b[38;5;45mNone\u001b[0m, \u001b[38;5;34m64\u001b[0m)             │             \u001b[38;5;34m0\u001b[0m │\n",
       "├─────────────────────────────────┼────────────────────────┼───────────────┤\n",
       "│ dense_1 (\u001b[38;5;33mDense\u001b[0m)                 │ (\u001b[38;5;45mNone\u001b[0m, \u001b[38;5;34m1\u001b[0m)              │            \u001b[38;5;34m65\u001b[0m │\n",
       "└─────────────────────────────────┴────────────────────────┴───────────────┘\n"
      ]
     },
     "metadata": {},
     "output_type": "display_data"
    },
    {
     "data": {
      "text/html": [
       "<pre style=\"white-space:pre;overflow-x:auto;line-height:normal;font-family:Menlo,'DejaVu Sans Mono',consolas,'Courier New',monospace\"><span style=\"font-weight: bold\"> Total params: </span><span style=\"color: #00af00; text-decoration-color: #00af00\">87,617</span> (342.25 KB)\n",
       "</pre>\n"
      ],
      "text/plain": [
       "\u001b[1m Total params: \u001b[0m\u001b[38;5;34m87,617\u001b[0m (342.25 KB)\n"
      ]
     },
     "metadata": {},
     "output_type": "display_data"
    },
    {
     "data": {
      "text/html": [
       "<pre style=\"white-space:pre;overflow-x:auto;line-height:normal;font-family:Menlo,'DejaVu Sans Mono',consolas,'Courier New',monospace\"><span style=\"font-weight: bold\"> Trainable params: </span><span style=\"color: #00af00; text-decoration-color: #00af00\">87,617</span> (342.25 KB)\n",
       "</pre>\n"
      ],
      "text/plain": [
       "\u001b[1m Trainable params: \u001b[0m\u001b[38;5;34m87,617\u001b[0m (342.25 KB)\n"
      ]
     },
     "metadata": {},
     "output_type": "display_data"
    },
    {
     "data": {
      "text/html": [
       "<pre style=\"white-space:pre;overflow-x:auto;line-height:normal;font-family:Menlo,'DejaVu Sans Mono',consolas,'Courier New',monospace\"><span style=\"font-weight: bold\"> Non-trainable params: </span><span style=\"color: #00af00; text-decoration-color: #00af00\">0</span> (0.00 B)\n",
       "</pre>\n"
      ],
      "text/plain": [
       "\u001b[1m Non-trainable params: \u001b[0m\u001b[38;5;34m0\u001b[0m (0.00 B)\n"
      ]
     },
     "metadata": {},
     "output_type": "display_data"
    }
   ],
   "source": [
    "import tensorflow as tf\n",
    "from tensorflow.keras.models import Sequential\n",
    "from tensorflow.keras.layers import GRU, Dense, Dropout\n",
    "\n",
    "# Define the GRU model\n",
    "model = Sequential([\n",
    "    # First GRU layer\n",
    "    GRU(units=128, activation='relu', input_shape=(X_train.shape[1], 1), return_sequences=True),\n",
    "    Dropout(0.2),  # Add dropout to prevent overfitting\n",
    "\n",
    "    # Second GRU layer\n",
    "    GRU(units=64, activation='relu', return_sequences=False),\n",
    "    Dropout(0.2),\n",
    "\n",
    "    # Fully connected output layer\n",
    "    Dense(units=1, activation='sigmoid')  # Binary classification\n",
    "])\n",
    "\n",
    "# Compile the model\n",
    "model.compile(optimizer='adam', loss='binary_crossentropy', metrics=['accuracy'])\n",
    "\n",
    "# Display the model architecture\n",
    "model.summary()\n"
   ]
  },
  {
   "cell_type": "code",
   "execution_count": 69,
   "id": "99e77133-c305-4985-a1f6-cf780fb3cb82",
   "metadata": {},
   "outputs": [
    {
     "name": "stdout",
     "output_type": "stream",
     "text": [
      "Epoch 1/10\n",
      "\u001b[1m3804/3804\u001b[0m \u001b[32m━━━━━━━━━━━━━━━━━━━━\u001b[0m\u001b[37m\u001b[0m \u001b[1m372s\u001b[0m 97ms/step - accuracy: 0.7218 - loss: 239.7543 - val_accuracy: 0.4992 - val_loss: 2.9296\n",
      "Epoch 2/10\n",
      "\u001b[1m3804/3804\u001b[0m \u001b[32m━━━━━━━━━━━━━━━━━━━━\u001b[0m\u001b[37m\u001b[0m \u001b[1m381s\u001b[0m 100ms/step - accuracy: 0.7210 - loss: 2.9508 - val_accuracy: 0.9165 - val_loss: 1.2154\n",
      "Epoch 3/10\n",
      "\u001b[1m3804/3804\u001b[0m \u001b[32m━━━━━━━━━━━━━━━━━━━━\u001b[0m\u001b[37m\u001b[0m \u001b[1m642s\u001b[0m 169ms/step - accuracy: 0.7817 - loss: 2.8953 - val_accuracy: 0.9969 - val_loss: 0.0402\n",
      "Epoch 4/10\n",
      "\u001b[1m3804/3804\u001b[0m \u001b[32m━━━━━━━━━━━━━━━━━━━━\u001b[0m\u001b[37m\u001b[0m \u001b[1m368s\u001b[0m 97ms/step - accuracy: 0.8571 - loss: 1.6717 - val_accuracy: 0.6927 - val_loss: 1.0302\n",
      "Epoch 5/10\n",
      "\u001b[1m3804/3804\u001b[0m \u001b[32m━━━━━━━━━━━━━━━━━━━━\u001b[0m\u001b[37m\u001b[0m \u001b[1m374s\u001b[0m 98ms/step - accuracy: 0.9188 - loss: 0.4279 - val_accuracy: 0.9955 - val_loss: 0.0224\n",
      "Epoch 6/10\n",
      "\u001b[1m3804/3804\u001b[0m \u001b[32m━━━━━━━━━━━━━━━━━━━━\u001b[0m\u001b[37m\u001b[0m \u001b[1m376s\u001b[0m 99ms/step - accuracy: 0.9522 - loss: 0.5861 - val_accuracy: 0.9760 - val_loss: 0.0566\n",
      "Epoch 7/10\n",
      "\u001b[1m3804/3804\u001b[0m \u001b[32m━━━━━━━━━━━━━━━━━━━━\u001b[0m\u001b[37m\u001b[0m \u001b[1m371s\u001b[0m 98ms/step - accuracy: 0.9933 - loss: 0.0362 - val_accuracy: 0.9995 - val_loss: 0.0066\n",
      "Epoch 8/10\n",
      "\u001b[1m3804/3804\u001b[0m \u001b[32m━━━━━━━━━━━━━━━━━━━━\u001b[0m\u001b[37m\u001b[0m \u001b[1m370s\u001b[0m 97ms/step - accuracy: 0.9966 - loss: 0.0391 - val_accuracy: 0.9979 - val_loss: 0.0125\n",
      "Epoch 9/10\n",
      "\u001b[1m3804/3804\u001b[0m \u001b[32m━━━━━━━━━━━━━━━━━━━━\u001b[0m\u001b[37m\u001b[0m \u001b[1m363s\u001b[0m 96ms/step - accuracy: 0.9675 - loss: 0.2864 - val_accuracy: 0.5697 - val_loss: 1.1818\n",
      "Epoch 10/10\n",
      "\u001b[1m3804/3804\u001b[0m \u001b[32m━━━━━━━━━━━━━━━━━━━━\u001b[0m\u001b[37m\u001b[0m \u001b[1m372s\u001b[0m 98ms/step - accuracy: 0.8996 - loss: 0.3344 - val_accuracy: 0.9993 - val_loss: 0.0232\n"
     ]
    }
   ],
   "source": [
    "from tensorflow.keras.callbacks import EarlyStopping\n",
    "\n",
    "# Define early stopping to avoid overfitting\n",
    "early_stopping = EarlyStopping(monitor='val_loss', patience=5, restore_best_weights=True)\n",
    "\n",
    "# Train the model\n",
    "history = model.fit(\n",
    "    X_train, y_train,\n",
    "    epochs=10,\n",
    "    batch_size=64,\n",
    "    validation_data=(X_val_cleaned, y_val_cleaned),\n",
    "    callbacks=[early_stopping]\n",
    ")\n"
   ]
  },
  {
   "cell_type": "code",
   "execution_count": 71,
   "id": "4335c023-277f-4c9f-89ee-47879c9190de",
   "metadata": {},
   "outputs": [
    {
     "name": "stdout",
     "output_type": "stream",
     "text": [
      "\u001b[1m1631/1631\u001b[0m \u001b[32m━━━━━━━━━━━━━━━━━━━━\u001b[0m\u001b[37m\u001b[0m \u001b[1m24s\u001b[0m 15ms/step - accuracy: 0.9994 - loss: 0.0034\n",
      "Test Loss: 0.0028646814171224833\n",
      "Test Accuracy: 0.9995591044425964\n"
     ]
    }
   ],
   "source": [
    "# Evaluate the model on the test set\n",
    "test_loss, test_accuracy = model.evaluate(X_test, y_test)\n",
    "print(f\"Test Loss: {test_loss}\")\n",
    "print(f\"Test Accuracy: {test_accuracy}\")\n"
   ]
  },
  {
   "cell_type": "code",
   "execution_count": 73,
   "id": "c3d3e282-d7aa-4fd1-9cd9-a4258b363b5b",
   "metadata": {},
   "outputs": [
    {
     "data": {
      "image/png": "[encoded data removed]",
      "text/plain": [
       "<Figure size 640x480 with 1 Axes>"
      ]
     },
     "metadata": {},
     "output_type": "display_data"
    },
    {
     "data": {
      "image/png": "[encoded data removed]",
      "text/plain": [
       "<Figure size 640x480 with 1 Axes>"
      ]
     },
     "metadata": {},
     "output_type": "display_data"
    }
   ],
   "source": [
    "import matplotlib.pyplot as plt\n",
    "\n",
    "# Plot accuracy\n",
    "plt.plot(history.history['accuracy'], label='Training Accuracy')\n",
    "plt.plot(history.history['val_accuracy'], label='Validation Accuracy')\n",
    "plt.legend()\n",
    "plt.title('Model Accuracy')\n",
    "plt.show()\n",
    "\n",
    "# Plot loss\n",
    "plt.plot(history.history['loss'], label='Training Loss')\n",
    "plt.plot(history.history['val_loss'], label='Validation Loss')\n",
    "plt.legend()\n",
    "plt.title('Model Loss')\n",
    "plt.show()\n"
   ]
  },
  {
   "cell_type": "code",
   "execution_count": 75,
   "id": "938ba6ce-6b40-4831-b78b-9e47d1cdf12e",
   "metadata": {},
   "outputs": [
    {
     "name": "stdout",
     "output_type": "stream",
     "text": [
      "\u001b[1m1631/1631\u001b[0m \u001b[32m━━━━━━━━━━━━━━━━━━━━\u001b[0m\u001b[37m\u001b[0m \u001b[1m25s\u001b[0m 15ms/step\n",
      "Accuracy: 0.9996\n",
      "Precision: 1.0000\n",
      "Recall: 0.9991\n",
      "F1-Score: 0.9996\n",
      "\n",
      "Classification Report:\n",
      "                 precision    recall  f1-score   support\n",
      "\n",
      "Legitimate URLs       1.00      1.00      1.00     26057\n",
      "  Phishing URLs       1.00      1.00      1.00     26110\n",
      "\n",
      "       accuracy                           1.00     52167\n",
      "      macro avg       1.00      1.00      1.00     52167\n",
      "   weighted avg       1.00      1.00      1.00     52167\n",
      "\n"
     ]
    }
   ],
   "source": [
    "from sklearn.metrics import precision_score, recall_score, f1_score, accuracy_score, classification_report\n",
    "\n",
    "# Predict on the test set\n",
    "y_pred_prob = model.predict(X_test)  # Get probabilities\n",
    "y_pred = (y_pred_prob > 0.5).astype(\"int32\")  # Convert probabilities to binary predictions\n",
    "\n",
    "# Calculate metrics\n",
    "precision = precision_score(y_test, y_pred)\n",
    "recall = recall_score(y_test, y_pred)\n",
    "f1 = f1_score(y_test, y_pred)\n",
    "accuracy = accuracy_score(y_test, y_pred)\n",
    "\n",
    "# Print results\n",
    "print(f\"Accuracy: {accuracy:.4f}\")\n",
    "print(f\"Precision: {precision:.4f}\")\n",
    "print(f\"Recall: {recall:.4f}\")\n",
    "print(f\"F1-Score: {f1:.4f}\")\n",
    "\n",
    "# Detailed classification report\n",
    "print(\"\\nClassification Report:\")\n",
    "print(classification_report(y_test, y_pred, target_names=[\"Legitimate URLs\", \"Phishing URLs\"]))\n"
   ]
  },
  {
   "cell_type": "code",
   "execution_count": 77,
   "id": "8b97d103-f580-42f6-88db-095d35c0e049",
   "metadata": {},
   "outputs": [
    {
     "name": "stderr",
     "output_type": "stream",
     "text": [
      "/opt/anaconda3/lib/python3.12/site-packages/keras/src/layers/rnn/rnn.py:200: UserWarning: Do not pass an `input_shape`/`input_dim` argument to a layer. When using Sequential models, prefer using an `Input(shape)` object as the first layer in the model instead.\n",
      "  super().__init__(**kwargs)\n"
     ]
    },
    {
     "data": {
      "text/html": [
       "<pre style=\"white-space:pre;overflow-x:auto;line-height:normal;font-family:Menlo,'DejaVu Sans Mono',consolas,'Courier New',monospace\"><span style=\"font-weight: bold\">Model: \"sequential_2\"</span>\n",
       "</pre>\n"
      ],
      "text/plain": [
       "\u001b[1mModel: \"sequential_2\"\u001b[0m\n"
      ]
     },
     "metadata": {},
     "output_type": "display_data"
    },
    {
     "data": {
      "text/html": [
       "<pre style=\"white-space:pre;overflow-x:auto;line-height:normal;font-family:Menlo,'DejaVu Sans Mono',consolas,'Courier New',monospace\">┏━━━━━━━━━━━━━━━━━━━━━━━━━━━━━━━━━┳━━━━━━━━━━━━━━━━━━━━━━━━┳━━━━━━━━━━━━━━━┓\n",
       "┃<span style=\"font-weight: bold\"> Layer (type)                    </span>┃<span style=\"font-weight: bold\"> Output Shape           </span>┃<span style=\"font-weight: bold\">       Param # </span>┃\n",
       "┡━━━━━━━━━━━━━━━━━━━━━━━━━━━━━━━━━╇━━━━━━━━━━━━━━━━━━━━━━━━╇━━━━━━━━━━━━━━━┩\n",
       "│ gru_4 (<span style=\"color: #0087ff; text-decoration-color: #0087ff\">GRU</span>)                     │ (<span style=\"color: #00d7ff; text-decoration-color: #00d7ff\">None</span>, <span style=\"color: #00af00; text-decoration-color: #00af00\">113</span>, <span style=\"color: #00af00; text-decoration-color: #00af00\">128</span>)       │        <span style=\"color: #00af00; text-decoration-color: #00af00\">50,304</span> │\n",
       "├─────────────────────────────────┼────────────────────────┼───────────────┤\n",
       "│ dropout_4 (<span style=\"color: #0087ff; text-decoration-color: #0087ff\">Dropout</span>)             │ (<span style=\"color: #00d7ff; text-decoration-color: #00d7ff\">None</span>, <span style=\"color: #00af00; text-decoration-color: #00af00\">113</span>, <span style=\"color: #00af00; text-decoration-color: #00af00\">128</span>)       │             <span style=\"color: #00af00; text-decoration-color: #00af00\">0</span> │\n",
       "├─────────────────────────────────┼────────────────────────┼───────────────┤\n",
       "│ gru_5 (<span style=\"color: #0087ff; text-decoration-color: #0087ff\">GRU</span>)                     │ (<span style=\"color: #00d7ff; text-decoration-color: #00d7ff\">None</span>, <span style=\"color: #00af00; text-decoration-color: #00af00\">64</span>)             │        <span style=\"color: #00af00; text-decoration-color: #00af00\">37,248</span> │\n",
       "├─────────────────────────────────┼────────────────────────┼───────────────┤\n",
       "│ dropout_5 (<span style=\"color: #0087ff; text-decoration-color: #0087ff\">Dropout</span>)             │ (<span style=\"color: #00d7ff; text-decoration-color: #00d7ff\">None</span>, <span style=\"color: #00af00; text-decoration-color: #00af00\">64</span>)             │             <span style=\"color: #00af00; text-decoration-color: #00af00\">0</span> │\n",
       "├─────────────────────────────────┼────────────────────────┼───────────────┤\n",
       "│ dense_2 (<span style=\"color: #0087ff; text-decoration-color: #0087ff\">Dense</span>)                 │ (<span style=\"color: #00d7ff; text-decoration-color: #00d7ff\">None</span>, <span style=\"color: #00af00; text-decoration-color: #00af00\">1</span>)              │            <span style=\"color: #00af00; text-decoration-color: #00af00\">65</span> │\n",
       "└─────────────────────────────────┴────────────────────────┴───────────────┘\n",
       "</pre>\n"
      ],
      "text/plain": [
       "┏━━━━━━━━━━━━━━━━━━━━━━━━━━━━━━━━━┳━━━━━━━━━━━━━━━━━━━━━━━━┳━━━━━━━━━━━━━━━┓\n",
       "┃\u001b[1m \u001b[0m\u001b[1mLayer (type)                   \u001b[0m\u001b[1m \u001b[0m┃\u001b[1m \u001b[0m\u001b[1mOutput Shape          \u001b[0m\u001b[1m \u001b[0m┃\u001b[1m \u001b[0m\u001b[1m      Param #\u001b[0m\u001b[1m \u001b[0m┃\n",
       "┡━━━━━━━━━━━━━━━━━━━━━━━━━━━━━━━━━╇━━━━━━━━━━━━━━━━━━━━━━━━╇━━━━━━━━━━━━━━━┩\n",
       "│ gru_4 (\u001b[38;5;33mGRU\u001b[0m)                     │ (\u001b[38;5;45mNone\u001b[0m, \u001b[38;5;34m113\u001b[0m, \u001b[38;5;34m128\u001b[0m)       │        \u001b[38;5;34m50,304\u001b[0m │\n",
       "├─────────────────────────────────┼────────────────────────┼───────────────┤\n",
       "│ dropout_4 (\u001b[38;5;33mDropout\u001b[0m)             │ (\u001b[38;5;45mNone\u001b[0m, \u001b[38;5;34m113\u001b[0m, \u001b[38;5;34m128\u001b[0m)       │             \u001b[38;5;34m0\u001b[0m │\n",
       "├─────────────────────────────────┼────────────────────────┼───────────────┤\n",
       "│ gru_5 (\u001b[38;5;33mGRU\u001b[0m)                     │ (\u001b[38;5;45mNone\u001b[0m, \u001b[38;5;34m64\u001b[0m)             │        \u001b[38;5;34m37,248\u001b[0m │\n",
       "├─────────────────────────────────┼────────────────────────┼───────────────┤\n",
       "│ dropout_5 (\u001b[38;5;33mDropout\u001b[0m)             │ (\u001b[38;5;45mNone\u001b[0m, \u001b[38;5;34m64\u001b[0m)             │             \u001b[38;5;34m0\u001b[0m │\n",
       "├─────────────────────────────────┼────────────────────────┼───────────────┤\n",
       "│ dense_2 (\u001b[38;5;33mDense\u001b[0m)                 │ (\u001b[38;5;45mNone\u001b[0m, \u001b[38;5;34m1\u001b[0m)              │            \u001b[38;5;34m65\u001b[0m │\n",
       "└─────────────────────────────────┴────────────────────────┴───────────────┘\n"
      ]
     },
     "metadata": {},
     "output_type": "display_data"
    },
    {
     "data": {
      "text/html": [
       "<pre style=\"white-space:pre;overflow-x:auto;line-height:normal;font-family:Menlo,'DejaVu Sans Mono',consolas,'Courier New',monospace\"><span style=\"font-weight: bold\"> Total params: </span><span style=\"color: #00af00; text-decoration-color: #00af00\">87,617</span> (342.25 KB)\n",
       "</pre>\n"
      ],
      "text/plain": [
       "\u001b[1m Total params: \u001b[0m\u001b[38;5;34m87,617\u001b[0m (342.25 KB)\n"
      ]
     },
     "metadata": {},
     "output_type": "display_data"
    },
    {
     "data": {
      "text/html": [
       "<pre style=\"white-space:pre;overflow-x:auto;line-height:normal;font-family:Menlo,'DejaVu Sans Mono',consolas,'Courier New',monospace\"><span style=\"font-weight: bold\"> Trainable params: </span><span style=\"color: #00af00; text-decoration-color: #00af00\">87,617</span> (342.25 KB)\n",
       "</pre>\n"
      ],
      "text/plain": [
       "\u001b[1m Trainable params: \u001b[0m\u001b[38;5;34m87,617\u001b[0m (342.25 KB)\n"
      ]
     },
     "metadata": {},
     "output_type": "display_data"
    },
    {
     "data": {
      "text/html": [
       "<pre style=\"white-space:pre;overflow-x:auto;line-height:normal;font-family:Menlo,'DejaVu Sans Mono',consolas,'Courier New',monospace\"><span style=\"font-weight: bold\"> Non-trainable params: </span><span style=\"color: #00af00; text-decoration-color: #00af00\">0</span> (0.00 B)\n",
       "</pre>\n"
      ],
      "text/plain": [
       "\u001b[1m Non-trainable params: \u001b[0m\u001b[38;5;34m0\u001b[0m (0.00 B)\n"
      ]
     },
     "metadata": {},
     "output_type": "display_data"
    }
   ],
   "source": [
    "import tensorflow as tf\n",
    "from tensorflow.keras.models import Sequential\n",
    "from tensorflow.keras.layers import GRU, Dense, Dropout\n",
    "from tensorflow.keras.regularizers import l2\n",
    "from tensorflow.keras.optimizers import Adam\n",
    "\n",
    "# Define the updated GRU model\n",
    "model = Sequential([\n",
    "    # First GRU layer with L2 regularization\n",
    "    GRU(units=128, activation='relu', input_shape=(X_train.shape[1], 1),\n",
    "        return_sequences=True, kernel_regularizer=l2(0.01)),\n",
    "    Dropout(0.3),  # Increased dropout to prevent overfitting\n",
    "\n",
    "    # Second GRU layer with L2 regularization\n",
    "    GRU(units=64, activation='relu', return_sequences=False, kernel_regularizer=l2(0.01)),\n",
    "    Dropout(0.3),\n",
    "\n",
    "    # Fully connected output layer\n",
    "    Dense(units=1, activation='sigmoid')  # Binary classification\n",
    "])\n",
    "\n",
    "# Compile the model with a reduced learning rate\n",
    "model.compile(optimizer=Adam(learning_rate=1e-4), loss='binary_crossentropy', metrics=['accuracy'])\n",
    "\n",
    "# Display the model architecture\n",
    "model.summary()\n"
   ]
  },
  {
   "cell_type": "code",
   "execution_count": null,
   "id": "10c0a2bd-d903-4bce-8694-2de5d0a719ab",
   "metadata": {},
   "outputs": [
    {
     "name": "stdout",
     "output_type": "stream",
     "text": [
      "Epoch 1/10\n",
      "\u001b[1m 961/3804\u001b[0m \u001b[32m━━━━━\u001b[0m\u001b[37m━━━━━━━━━━━━━━━\u001b[0m \u001b[1m4:24\u001b[0m 93ms/step - accuracy: 0.4948 - loss: nan"
     ]
    }
   ],
   "source": [
    "from tensorflow.keras.callbacks import EarlyStopping, ReduceLROnPlateau\n",
    "\n",
    "# Early stopping to monitor validation loss\n",
    "early_stopping = EarlyStopping(monitor='val_loss', patience=7, restore_best_weights=True, verbose=1)\n",
    "\n",
    "# Reduce learning rate when validation loss plateaus\n",
    "reduce_lr = ReduceLROnPlateau(monitor='val_loss', factor=0.5, patience=3, verbose=1)\n",
    "\n",
    "# Train the model\n",
    "history = model.fit(\n",
    "    X_train, y_train,\n",
    "    epochs=10,  # Allow more epochs to stabilize training\n",
    "    batch_size=64,\n",
    "    validation_data=(X_val_cleaned, y_val_cleaned),\n",
    "    callbacks=[early_stopping, reduce_lr]\n",
    ")\n"
   ]
  },
  {
   "cell_type": "code",
   "execution_count": null,
   "id": "ef06a6e3-265d-43c2-8898-19f1abe24f43",
   "metadata": {},
   "outputs": [],
   "source": []
  }
 ],
 "metadata": {
  "kernelspec": {
   "display_name": "Python 3 (ipykernel)",
   "language": "python",
   "name": "python3"
  },
  "language_info": {
   "codemirror_mode": {
    "name": "ipython",
    "version": 3
   },
   "file_extension": ".py",
   "mimetype": "text/x-python",
   "name": "python",
   "nbconvert_exporter": "python",
   "pygments_lexer": "ipython3",
   "version": "3.12.7"
  }
 },
 "nbformat": 4,
 "nbformat_minor": 5
}
