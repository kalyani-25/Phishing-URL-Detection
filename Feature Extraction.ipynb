{
 "cells": [
  {
   "cell_type": "code",
   "execution_count": 1,
   "id": "915ea242-1832-4c66-8ecd-e0c2a628d5b1",
   "metadata": {},
   "outputs": [
    {
     "name": "stdout",
     "output_type": "stream",
     "text": [
      "Files extracted to extracted_data\n",
      "Files in extracted folder: ['csv.txt']\n",
      "File read successfully from extracted_data/csv.txt\n",
      "        id            dateadded                                 url  \\\n",
      "0  3312255  2024-11-30 02:04:23   http://117.199.21.47:53445/bin.sh   \n",
      "1  3312254  2024-11-30 02:03:23  http://117.209.28.169:33720/bin.sh   \n",
      "2  3312253  2024-11-30 02:03:06  http://222.246.40.100:55760/bin.sh   \n",
      "3  3312252  2024-11-30 02:02:35    http://59.91.75.160:58979/bin.sh   \n",
      "4  3312250  2024-11-30 02:02:07          http://39.79.9.209:50976/i   \n",
      "\n",
      "  url_status          last_online            threat                  tags  \\\n",
      "0     online  2024-11-30 02:04:23  malware_download  32-bit,elf,mips,Mozi   \n",
      "1     online  2024-11-30 02:03:23  malware_download  32-bit,elf,mips,Mozi   \n",
      "2     online  2024-11-30 02:03:06  malware_download   32-bit,arm,elf,Mozi   \n",
      "3    offline                  NaN  malware_download  32-bit,elf,mips,Mozi   \n",
      "4     online  2024-11-30 02:02:07  malware_download  32-bit,elf,mips,Mozi   \n",
      "\n",
      "                            urlhaus_link  reporter  \n",
      "0  https://urlhaus.abuse.ch/url/3312255/  geenensp  \n",
      "1  https://urlhaus.abuse.ch/url/3312254/  geenensp  \n",
      "2  https://urlhaus.abuse.ch/url/3312253/  geenensp  \n",
      "3  https://urlhaus.abuse.ch/url/3312252/  geenensp  \n",
      "4  https://urlhaus.abuse.ch/url/3312250/  geenensp  \n",
      "DataFrame Shape: (173887, 9)\n",
      "Data saved to malicious_data.csv\n"
     ]
    }
   ],
   "source": [
    "import zipfile\n",
    "import os\n",
    "import pandas as pd\n",
    "# Function to extract the ZIP file\n",
    "def extract_zip(file_path, extract_to_folder):\n",
    "    try:\n",
    "        with zipfile.ZipFile(file_path, 'r') as zip_ref:\n",
    "            zip_ref.extractall(extract_to_folder)\n",
    "            print(f\"Files extracted to {extract_to_folder}\")\n",
    "    except Exception as e:\n",
    "        print(f\"Error extracting the ZIP file: {e}\")\n",
    "\n",
    "# Function to read the .txt (CSV-like) file from the extracted folder and skip commented lines\n",
    "def read_file_from_extracted_folder(extracted_folder):\n",
    "    extracted_files = os.listdir(extracted_folder)\n",
    "    print(f\"Files in extracted folder: {extracted_files}\")\n",
    "    file_to_read = None\n",
    "    for file in extracted_files:\n",
    "        if file.endswith('.txt'):\n",
    "            file_to_read = os.path.join(extracted_folder, file)\n",
    "            break\n",
    "    if file_to_read:\n",
    "        try:\n",
    "            df = pd.read_csv(file_to_read, comment='#', header=None)\n",
    "            print(f\"File read successfully from {file_to_read}\")\n",
    "            return df\n",
    "        except Exception as e:\n",
    "            print(f\"Error reading the file: {e}\")\n",
    "            return None\n",
    "    else:\n",
    "        print(\"No readable file found in the extracted folder.\")\n",
    "        return None\n",
    "\n",
    "# Function to assign column labels to the DataFrame\n",
    "def assign_column_labels(df):\n",
    "    df.columns = [\n",
    "        'id', 'dateadded', 'url', 'url_status', 'last_online', 'threat', \n",
    "        'tags', 'urlhaus_link', 'reporter'\n",
    "    ]\n",
    "    return df\n",
    "\n",
    "# Function to save DataFrame to CSV\n",
    "def save_to_csv(df, output_path):\n",
    "    try:\n",
    "        df.to_csv(output_path, index=False)\n",
    "        print(f\"Data saved to {output_path}\")\n",
    "    except Exception as e:\n",
    "        print(f\"Error saving data to CSV: {e}\")\n",
    "\n",
    "# Path setup\n",
    "zip_file_path = \"urlhaus_data.csv\"  # Replace with the actual path to the ZIP file\n",
    "extracted_folder = \"extracted_data\"\n",
    "output_csv_path = \"malicious_data.csv\"\n",
    "\n",
    "# Process data\n",
    "extract_zip(zip_file_path, extracted_folder)\n",
    "df = read_file_from_extracted_folder(extracted_folder)\n",
    "if df is not None:\n",
    "    df_malicious = assign_column_labels(df)\n",
    "    print(df_malicious.head())\n",
    "    print(f\"DataFrame Shape: {df_malicious.shape}\")\n",
    "    save_to_csv(df_malicious, output_csv_path)\n",
    "else:\n",
    "    print(\"Failed to read the file.\")\n"
   ]
  },
  {
   "cell_type": "code",
   "execution_count": 3,
   "id": "2bff1e92-cac9-444d-9b07-d840630b1b5e",
   "metadata": {},
   "outputs": [
    {
     "data": {
      "text/plain": [
       "(173887, 9)"
      ]
     },
     "execution_count": 3,
     "metadata": {},
     "output_type": "execute_result"
    }
   ],
   "source": [
    "df_malicious.shape"
   ]
  },
  {
   "cell_type": "code",
   "execution_count": 5,
   "id": "62728b8a-0702-4bbd-9200-b1a6fc16a687",
   "metadata": {},
   "outputs": [
    {
     "data": {
      "text/plain": [
       "Index(['id', 'dateadded', 'url', 'url_status', 'last_online', 'threat', 'tags',\n",
       "       'urlhaus_link', 'reporter'],\n",
       "      dtype='object')"
      ]
     },
     "execution_count": 5,
     "metadata": {},
     "output_type": "execute_result"
    }
   ],
   "source": [
    "df_malicious.columns"
   ]
  },
  {
   "cell_type": "code",
   "execution_count": 7,
   "id": "9cf61872-3bff-40b9-bcf9-fd9e89f8b103",
   "metadata": {},
   "outputs": [
    {
     "name": "stdout",
     "output_type": "stream",
     "text": [
      "<class 'pandas.core.frame.DataFrame'>\n",
      "RangeIndex: 173887 entries, 0 to 173886\n",
      "Data columns (total 9 columns):\n",
      " #   Column        Non-Null Count   Dtype \n",
      "---  ------        --------------   ----- \n",
      " 0   id            173887 non-null  int64 \n",
      " 1   dateadded     173887 non-null  object\n",
      " 2   url           173887 non-null  object\n",
      " 3   url_status    173887 non-null  object\n",
      " 4   last_online   156697 non-null  object\n",
      " 5   threat        173887 non-null  object\n",
      " 6   tags          169485 non-null  object\n",
      " 7   urlhaus_link  173887 non-null  object\n",
      " 8   reporter      173887 non-null  object\n",
      "dtypes: int64(1), object(8)\n",
      "memory usage: 11.9+ MB\n"
     ]
    }
   ],
   "source": [
    "df_malicious.info()"
   ]
  },
  {
   "cell_type": "code",
   "execution_count": 9,
   "id": "98b216a1-ee78-48e3-9016-bc12d6ccc799",
   "metadata": {},
   "outputs": [
    {
     "name": "stdout",
     "output_type": "stream",
     "text": [
      "Updated Malicious Dataset with Labels:\n",
      "        id            dateadded                                 url  \\\n",
      "0  3312255  2024-11-30 02:04:23   http://117.199.21.47:53445/bin.sh   \n",
      "1  3312254  2024-11-30 02:03:23  http://117.209.28.169:33720/bin.sh   \n",
      "2  3312253  2024-11-30 02:03:06  http://222.246.40.100:55760/bin.sh   \n",
      "3  3312252  2024-11-30 02:02:35    http://59.91.75.160:58979/bin.sh   \n",
      "4  3312250  2024-11-30 02:02:07          http://39.79.9.209:50976/i   \n",
      "\n",
      "  url_status          last_online            threat                  tags  \\\n",
      "0     online  2024-11-30 02:04:23  malware_download  32-bit,elf,mips,Mozi   \n",
      "1     online  2024-11-30 02:03:23  malware_download  32-bit,elf,mips,Mozi   \n",
      "2     online  2024-11-30 02:03:06  malware_download   32-bit,arm,elf,Mozi   \n",
      "3    offline                  NaN  malware_download  32-bit,elf,mips,Mozi   \n",
      "4     online  2024-11-30 02:02:07  malware_download  32-bit,elf,mips,Mozi   \n",
      "\n",
      "                            urlhaus_link  reporter  \n",
      "0  https://urlhaus.abuse.ch/url/3312255/  geenensp  \n",
      "1  https://urlhaus.abuse.ch/url/3312254/  geenensp  \n",
      "2  https://urlhaus.abuse.ch/url/3312253/  geenensp  \n",
      "3  https://urlhaus.abuse.ch/url/3312252/  geenensp  \n",
      "4  https://urlhaus.abuse.ch/url/3312250/  geenensp  \n"
     ]
    }
   ],
   "source": [
    "import pandas as pd\n",
    "\n",
    "# Load the malicious dataset\n",
    "malicious_data = pd.read_csv(\"malicious_data.csv\")\n",
    "\n",
    "# Save the updated dataset to a new file\n",
    "malicious_data.to_csv(\"malicious_data_final.csv\", index=False)\n",
    "\n",
    "# Display the first few rows to confirm\n",
    "print(\"Updated Malicious Dataset with Labels:\")\n",
    "print(malicious_data.head())\n"
   ]
  },
  {
   "cell_type": "code",
   "execution_count": 11,
   "id": "9daa6cb2-c603-4674-bbbb-68da0b32cd30",
   "metadata": {},
   "outputs": [
    {
     "data": {
      "text/html": [
       "<div>\n",
       "<style scoped>\n",
       "    .dataframe tbody tr th:only-of-type {\n",
       "        vertical-align: middle;\n",
       "    }\n",
       "\n",
       "    .dataframe tbody tr th {\n",
       "        vertical-align: top;\n",
       "    }\n",
       "\n",
       "    .dataframe thead th {\n",
       "        text-align: right;\n",
       "    }\n",
       "</style>\n",
       "<table border=\"1\" class=\"dataframe\">\n",
       "  <thead>\n",
       "    <tr style=\"text-align: right;\">\n",
       "      <th></th>\n",
       "      <th>id</th>\n",
       "      <th>dateadded</th>\n",
       "      <th>url</th>\n",
       "      <th>url_status</th>\n",
       "      <th>last_online</th>\n",
       "      <th>threat</th>\n",
       "      <th>tags</th>\n",
       "      <th>urlhaus_link</th>\n",
       "      <th>reporter</th>\n",
       "    </tr>\n",
       "  </thead>\n",
       "  <tbody>\n",
       "    <tr>\n",
       "      <th>0</th>\n",
       "      <td>1</td>\n",
       "      <td>2024-11-30 02:10:35</td>\n",
       "      <td>mail.ru</td>\n",
       "      <td>online</td>\n",
       "      <td>2024-11-30 02:10:35</td>\n",
       "      <td>legitimate</td>\n",
       "      <td>none</td>\n",
       "      <td>NaN</td>\n",
       "      <td>Tranco-58PNN</td>\n",
       "    </tr>\n",
       "    <tr>\n",
       "      <th>1</th>\n",
       "      <td>2</td>\n",
       "      <td>2024-11-30 02:10:35</td>\n",
       "      <td>microsoft.com</td>\n",
       "      <td>online</td>\n",
       "      <td>2024-11-30 02:10:35</td>\n",
       "      <td>legitimate</td>\n",
       "      <td>none</td>\n",
       "      <td>NaN</td>\n",
       "      <td>Tranco-58PNN</td>\n",
       "    </tr>\n",
       "    <tr>\n",
       "      <th>2</th>\n",
       "      <td>3</td>\n",
       "      <td>2024-11-30 02:10:35</td>\n",
       "      <td>facebook.com</td>\n",
       "      <td>online</td>\n",
       "      <td>2024-11-30 02:10:35</td>\n",
       "      <td>legitimate</td>\n",
       "      <td>none</td>\n",
       "      <td>NaN</td>\n",
       "      <td>Tranco-58PNN</td>\n",
       "    </tr>\n",
       "    <tr>\n",
       "      <th>3</th>\n",
       "      <td>4</td>\n",
       "      <td>2024-11-30 02:10:35</td>\n",
       "      <td>dzen.ru</td>\n",
       "      <td>online</td>\n",
       "      <td>2024-11-30 02:10:35</td>\n",
       "      <td>legitimate</td>\n",
       "      <td>none</td>\n",
       "      <td>NaN</td>\n",
       "      <td>Tranco-58PNN</td>\n",
       "    </tr>\n",
       "    <tr>\n",
       "      <th>4</th>\n",
       "      <td>5</td>\n",
       "      <td>2024-11-30 02:10:35</td>\n",
       "      <td>apple.com</td>\n",
       "      <td>online</td>\n",
       "      <td>2024-11-30 02:10:35</td>\n",
       "      <td>legitimate</td>\n",
       "      <td>none</td>\n",
       "      <td>NaN</td>\n",
       "      <td>Tranco-58PNN</td>\n",
       "    </tr>\n",
       "  </tbody>\n",
       "</table>\n",
       "</div>"
      ],
      "text/plain": [
       "   id            dateadded            url url_status          last_online  \\\n",
       "0   1  2024-11-30 02:10:35        mail.ru     online  2024-11-30 02:10:35   \n",
       "1   2  2024-11-30 02:10:35  microsoft.com     online  2024-11-30 02:10:35   \n",
       "2   3  2024-11-30 02:10:35   facebook.com     online  2024-11-30 02:10:35   \n",
       "3   4  2024-11-30 02:10:35        dzen.ru     online  2024-11-30 02:10:35   \n",
       "4   5  2024-11-30 02:10:35      apple.com     online  2024-11-30 02:10:35   \n",
       "\n",
       "       threat  tags  urlhaus_link      reporter  \n",
       "0  legitimate  none           NaN  Tranco-58PNN  \n",
       "1  legitimate  none           NaN  Tranco-58PNN  \n",
       "2  legitimate  none           NaN  Tranco-58PNN  \n",
       "3  legitimate  none           NaN  Tranco-58PNN  \n",
       "4  legitimate  none           NaN  Tranco-58PNN  "
      ]
     },
     "execution_count": 11,
     "metadata": {},
     "output_type": "execute_result"
    }
   ],
   "source": [
    "import pandas as pd\n",
    "\n",
    "# Load the 'tranco_58PNN_legitimate_dataset.csv'\n",
    "df_legitimate = pd.read_csv('tranco_58PNN-2.csv')\n",
    "\n",
    "# Display the first few rows of the dataset\n",
    "df_legitimate.head()"
   ]
  },
  {
   "cell_type": "code",
   "execution_count": 13,
   "id": "8e834bd6-ec4c-4b24-a6ed-55de7297413e",
   "metadata": {},
   "outputs": [
    {
     "data": {
      "text/plain": [
       "(999999, 9)"
      ]
     },
     "execution_count": 13,
     "metadata": {},
     "output_type": "execute_result"
    }
   ],
   "source": [
    "df_legitimate.shape"
   ]
  },
  {
   "cell_type": "code",
   "execution_count": 15,
   "id": "8582fcf2-a486-4df5-8fd8-165e186ee77a",
   "metadata": {
    "scrolled": true
   },
   "outputs": [
    {
     "data": {
      "text/plain": [
       "Index(['id', 'dateadded', 'url', 'url_status', 'last_online', 'threat', 'tags',\n",
       "       'urlhaus_link', 'reporter'],\n",
       "      dtype='object')"
      ]
     },
     "execution_count": 15,
     "metadata": {},
     "output_type": "execute_result"
    }
   ],
   "source": [
    "df_legitimate.columns"
   ]
  },
  {
   "cell_type": "code",
   "execution_count": 17,
   "id": "bb15da98-6b4a-4832-a89a-cb3321c07258",
   "metadata": {},
   "outputs": [
    {
     "name": "stdout",
     "output_type": "stream",
     "text": [
      "<class 'pandas.core.frame.DataFrame'>\n",
      "RangeIndex: 999999 entries, 0 to 999998\n",
      "Data columns (total 9 columns):\n",
      " #   Column        Non-Null Count   Dtype  \n",
      "---  ------        --------------   -----  \n",
      " 0   id            999999 non-null  int64  \n",
      " 1   dateadded     999999 non-null  object \n",
      " 2   url           999999 non-null  object \n",
      " 3   url_status    999999 non-null  object \n",
      " 4   last_online   999999 non-null  object \n",
      " 5   threat        999999 non-null  object \n",
      " 6   tags          999999 non-null  object \n",
      " 7   urlhaus_link  0 non-null       float64\n",
      " 8   reporter      999999 non-null  object \n",
      "dtypes: float64(1), int64(1), object(7)\n",
      "memory usage: 68.7+ MB\n"
     ]
    }
   ],
   "source": [
    "df_legitimate.info()"
   ]
  },
  {
   "cell_type": "code",
   "execution_count": 19,
   "id": "26fc4c04-5f97-442b-a6e3-517b3ac6d2fa",
   "metadata": {},
   "outputs": [
    {
     "name": "stdout",
     "output_type": "stream",
     "text": [
      "Raw Dataset:\n",
      "        id            dateadded                               url url_status  \\\n",
      "0  2857468  2024-05-20 21:19:22  http://31.222.113.214:49012/sshd     online   \n",
      "1    36118  2024-11-30 02:10:35                intrepidtravel.com     online   \n",
      "2   967200  2024-11-30 02:10:35                       stavki.info     online   \n",
      "3   811220  2024-11-30 02:10:35                  prismatec.srv.br     online   \n",
      "4    56759  2024-11-30 02:10:35                 digitalpfizer.com     online   \n",
      "\n",
      "           last_online            threat  tags  \\\n",
      "0  2024-11-30 01:45:01  malware_download   elf   \n",
      "1  2024-11-30 02:10:35        legitimate  none   \n",
      "2  2024-11-30 02:10:35        legitimate  none   \n",
      "3  2024-11-30 02:10:35        legitimate  none   \n",
      "4  2024-11-30 02:10:35        legitimate  none   \n",
      "\n",
      "                            urlhaus_link      reporter  \n",
      "0  https://urlhaus.abuse.ch/url/2857468/  abus3reports  \n",
      "1                                    NaN  Tranco-58PNN  \n",
      "2                                    NaN  Tranco-58PNN  \n",
      "3                                    NaN  Tranco-58PNN  \n",
      "4                                    NaN  Tranco-58PNN  \n"
     ]
    }
   ],
   "source": [
    "import pandas as pd\n",
    "\n",
    "# Load the malicious dataset (with Label column already added)\n",
    "malicious_data = pd.read_csv(\"malicious_data_final.csv\")  # Replace with your file path\n",
    "\n",
    "# Load the legitimate dataset (with Label column added as 0)\n",
    "legitimate_data = pd.read_csv(\"tranco_58PNN-2.csv\")  # Replace with your file path\n",
    "\n",
    "# Combine the two datasets\n",
    "combined_data = pd.concat([malicious_data, legitimate_data], ignore_index=True)\n",
    "\n",
    "# Shuffle the dataset to ensure randomization\n",
    "combined_data = combined_data.sample(frac=1, random_state=42).reset_index(drop=True)\n",
    "\n",
    "# Save the combined dataset to a new file\n",
    "combined_data.to_csv(\"raw_dataset.csv\", index=False)\n",
    "\n",
    "# Display the first few rows of the combined dataset\n",
    "print(\"Raw Dataset:\")\n",
    "print(combined_data.head())"
   ]
  },
  {
   "cell_type": "code",
   "execution_count": 20,
   "id": "0f6a963c-4c18-4f3c-9058-ebb04c45c9f6",
   "metadata": {},
   "outputs": [
    {
     "name": "stdout",
     "output_type": "stream",
     "text": [
      "        id            dateadded                               url url_status  \\\n",
      "0  2857468  2024-05-20 21:19:22  http://31.222.113.214:49012/sshd     online   \n",
      "1    36118  2024-11-30 02:10:35                intrepidtravel.com     online   \n",
      "2   967200  2024-11-30 02:10:35                       stavki.info     online   \n",
      "3   811220  2024-11-30 02:10:35                  prismatec.srv.br     online   \n",
      "4    56759  2024-11-30 02:10:35                 digitalpfizer.com     online   \n",
      "\n",
      "           last_online            threat  tags  \\\n",
      "0  2024-11-30 01:45:01  malware_download   elf   \n",
      "1  2024-11-30 02:10:35        legitimate  none   \n",
      "2  2024-11-30 02:10:35        legitimate  none   \n",
      "3  2024-11-30 02:10:35        legitimate  none   \n",
      "4  2024-11-30 02:10:35        legitimate  none   \n",
      "\n",
      "                            urlhaus_link      reporter  \n",
      "0  https://urlhaus.abuse.ch/url/2857468/  abus3reports  \n",
      "1                                    NaN  Tranco-58PNN  \n",
      "2                                    NaN  Tranco-58PNN  \n",
      "3                                    NaN  Tranco-58PNN  \n",
      "4                                    NaN  Tranco-58PNN  \n",
      "<class 'pandas.core.frame.DataFrame'>\n",
      "RangeIndex: 1173886 entries, 0 to 1173885\n",
      "Data columns (total 9 columns):\n",
      " #   Column        Non-Null Count    Dtype \n",
      "---  ------        --------------    ----- \n",
      " 0   id            1173886 non-null  int64 \n",
      " 1   dateadded     1173886 non-null  object\n",
      " 2   url           1173886 non-null  object\n",
      " 3   url_status    1173886 non-null  object\n",
      " 4   last_online   1156696 non-null  object\n",
      " 5   threat        1173886 non-null  object\n",
      " 6   tags          1169484 non-null  object\n",
      " 7   urlhaus_link  173887 non-null   object\n",
      " 8   reporter      1173886 non-null  object\n",
      "dtypes: int64(1), object(8)\n",
      "memory usage: 80.6+ MB\n",
      "None\n"
     ]
    }
   ],
   "source": [
    "import pandas as pd\n",
    "\n",
    "# Load the dataset\n",
    "file_path = \"raw_dataset.csv\"\n",
    "df= pd.read_csv(file_path)\n",
    "\n",
    "# Display the first few rows to understand the structure\n",
    "print(df.head())\n",
    "print(df.info())  # Get information about the dataset"
   ]
  },
  {
   "cell_type": "markdown",
   "id": "ab5024ac-6a3d-4e37-a4d8-6b5cb4c5385d",
   "metadata": {},
   "source": [
    "Steps to Address Class Imbalance\n",
    "1. Load the Combined Dataset\n",
    "First, load the combined dataset and inspect the class distribution."
   ]
  },
  {
   "cell_type": "code",
   "execution_count": 22,
   "id": "4c8b7648-5dea-49a6-90b4-24a670170856",
   "metadata": {},
   "outputs": [
    {
     "name": "stdout",
     "output_type": "stream",
     "text": [
      "Class Distribution:\n",
      "threat\n",
      "legitimate          999999\n",
      "malware_download    173887\n",
      "Name: count, dtype: int64\n"
     ]
    }
   ],
   "source": [
    "import pandas as pd\n",
    "\n",
    "# Load the raw combined dataset\n",
    "df = pd.read_csv(\"raw_dataset.csv\")\n",
    "\n",
    "# Check class distribution\n",
    "print(\"Class Distribution:\")\n",
    "print(df['threat'].value_counts())  # Ensure 'threat' or appropriate label column is present\n",
    "\n",
    "# Optionally rename 'threat' to 'Label' for clarity\n",
    "df['Label'] = df['threat'].apply(lambda x: 1 if x == 'malware_download' else 0)"
   ]
  },
  {
   "cell_type": "markdown",
   "id": "90465889-e6ea-4df9-9db4-0a4e7fe16193",
   "metadata": {},
   "source": [
    "From result:\n",
    "Phishing URLs (malicious): 173,887 samples.\n",
    "Legitimate URLs: 999,999 samples.\n",
    "This imbalance can cause the model to predict the majority class (legitimate) more often, leading to poor performance on phishing detection."
   ]
  },
  {
   "cell_type": "markdown",
   "id": "c1b613bb-ab3b-4cf1-9e6d-78f4e44595f2",
   "metadata": {},
   "source": [
    "Steps to Handle Class Imbalance\n",
    "Below are detailed steps to balance your dataset before proceeding to feature extraction."
   ]
  },
  {
   "cell_type": "markdown",
   "id": "ea06a9b8-9b45-4eba-a95b-8f36241ab441",
   "metadata": {},
   "source": [
    "Combine Techniques:- \n",
    "we can do downsampling\n",
    "\n",
    "Downsample the majority class to a reasonable size."
   ]
  },
  {
   "cell_type": "markdown",
   "id": "3ddb361b-5fb6-4849-9c5b-4fcca109f187",
   "metadata": {},
   "source": [
    "Step 1: Prepare the Dataset\n",
    "First, ensure that the dataset is loaded and labeled correctly.\n",
    "Address Class Imbalance"
   ]
  },
  {
   "cell_type": "code",
   "execution_count": 30,
   "id": "5c5ab7dd-5094-4261-b05b-4eb70f524e29",
   "metadata": {},
   "outputs": [
    {
     "name": "stdout",
     "output_type": "stream",
     "text": [
      "Updated Class Distribution:\n",
      "Label\n",
      "0    999999\n",
      "1    173887\n",
      "Name: count, dtype: int64\n"
     ]
    }
   ],
   "source": [
    "import pandas as pd\n",
    "\n",
    "# Load the raw dataset\n",
    "df = pd.read_csv(\"raw_dataset.csv\")\n",
    "\n",
    "# Map 'threat' to binary labels: legitimate (0) and phishing (1)\n",
    "df['Label'] = df['threat'].apply(lambda x: 1 if x == 'malware_download' else 0)\n",
    "\n",
    "# Check the updated class distribution\n",
    "print(\"Updated Class Distribution:\")\n",
    "print(df['Label'].value_counts())"
   ]
  },
  {
   "cell_type": "markdown",
   "id": "22e709c8-dbef-4a06-bbe8-7f1574fb523e",
   "metadata": {},
   "source": [
    "Step 2: Downsample the Majority Class\n",
    "Reduce the number of legitimate URLs (Label = 0) to a reasonable size while keeping the phishing URLs intact."
   ]
  },
  {
   "cell_type": "code",
   "execution_count": 32,
   "id": "a3e09647-3c17-4518-acab-497204f2a022",
   "metadata": {},
   "outputs": [
    {
     "name": "stdout",
     "output_type": "stream",
     "text": [
      "Class Distribution After Downsampling:\n",
      "Label\n",
      "1    173887\n",
      "0    173887\n",
      "Name: count, dtype: int64\n"
     ]
    }
   ],
   "source": [
    "import pandas as pd\n",
    "\n",
    "# Load the raw dataset\n",
    "df = pd.read_csv(\"raw_dataset.csv\")\n",
    "\n",
    "# Map 'threat' column to binary labels: legitimate = 0, phishing = 1\n",
    "df['Label'] = df['threat'].apply(lambda x: 1 if x == 'malware_download' else 0)\n",
    "\n",
    "# Separate legitimate and phishing samples\n",
    "df_legit = df[df['Label'] == 0]\n",
    "df_phish = df[df['Label'] == 1]\n",
    "\n",
    "# Downsample legitimate URLs to a reasonable size (e.g., 400,000 samples)\n",
    "df_legit_downsampled = df_legit.sample(173887, random_state=42)\n",
    "\n",
    "# Combine the downsampled legitimate data with all phishing data\n",
    "df_downsampled = pd.concat([df_legit_downsampled, df_phish])\n",
    "\n",
    "# Shuffle the dataset\n",
    "df_downsampled = df_downsampled.sample(frac=1, random_state=42).reset_index(drop=True)\n",
    "\n",
    "# Save the downsampled dataset\n",
    "df_downsampled.to_csv(\"downsampled_dataset.csv\", index=False)\n",
    "\n",
    "# Check class distribution\n",
    "print(\"Class Distribution After Downsampling:\")\n",
    "print(df_downsampled['Label'].value_counts())\n"
   ]
  },
  {
   "cell_type": "markdown",
   "id": "ee7780d6-37d8-44fc-b99d-c6ed9c78acbf",
   "metadata": {},
   "source": [
    " Load the Downsampled Dataset"
   ]
  },
  {
   "cell_type": "code",
   "execution_count": 35,
   "id": "265e7a15-a3b3-4559-8b74-ae8f4a446810",
   "metadata": {},
   "outputs": [
    {
     "name": "stdout",
     "output_type": "stream",
     "text": [
      "<class 'pandas.core.frame.DataFrame'>\n",
      "RangeIndex: 347774 entries, 0 to 347773\n",
      "Data columns (total 10 columns):\n",
      " #   Column        Non-Null Count   Dtype \n",
      "---  ------        --------------   ----- \n",
      " 0   id            347774 non-null  int64 \n",
      " 1   dateadded     347774 non-null  object\n",
      " 2   url           347774 non-null  object\n",
      " 3   url_status    347774 non-null  object\n",
      " 4   last_online   330584 non-null  object\n",
      " 5   threat        347774 non-null  object\n",
      " 6   tags          343372 non-null  object\n",
      " 7   urlhaus_link  173887 non-null  object\n",
      " 8   reporter      347774 non-null  object\n",
      " 9   Label         347774 non-null  int64 \n",
      "dtypes: int64(2), object(8)\n",
      "memory usage: 26.5+ MB\n",
      "None\n",
      "Class Distribution:\n",
      "Label\n",
      "1    173887\n",
      "0    173887\n",
      "Name: count, dtype: int64\n"
     ]
    }
   ],
   "source": [
    "# Load necessary libraries\n",
    "import pandas as pd\n",
    "\n",
    "# Load the downsampled dataset\n",
    "df_downsampled = pd.read_csv(\"downsampled_dataset.csv\")\n",
    "\n",
    "# Inspect the dataset structure\n",
    "print(df_downsampled.info())\n",
    "\n",
    "# Check class distribution\n",
    "print(\"Class Distribution:\")\n",
    "print(df_downsampled['Label'].value_counts())"
   ]
  },
  {
   "cell_type": "markdown",
   "id": "2fa2fb35-14a6-47c1-b6d7-ed9ffc47a8c7",
   "metadata": {},
   "source": [
    "Extract Numerical Features\n",
    "Extract keyA numerical features to capture patterns that distinguish phishing from legitimate URLs."
   ]
  },
  {
   "cell_type": "markdown",
   "id": "6d229b11-a4df-4404-bb5b-e68838ddf322",
   "metadata": {},
   "source": [
    "Features to Extraction"
   ]
  },
  {
   "cell_type": "markdown",
   "id": "d0af089c-fa5f-4a5e-9353-9894b7395ebd",
   "metadata": {},
   "source": [
    "1. URL Length\n",
    "Description: The total length of the URL string.\n",
    "Why it's important: Phishing URLs often tend to be longer, as they try to obfuscate their true destination."
   ]
  },
  {
   "cell_type": "code",
   "execution_count": 41,
   "id": "5e708ec3-4b1e-4996-b49e-afeeac06f7c1",
   "metadata": {},
   "outputs": [
    {
     "name": "stdout",
     "output_type": "stream",
     "text": [
      "\n",
      "Shape of the dataframe: (347774, 11)\n",
      "        id            dateadded                                      url  \\\n",
      "0  3230050  2024-10-11 12:23:33        http://117.209.4.108:57478/bin.sh   \n",
      "1  3177228  2024-09-16 19:43:06  http://154.216.18.121/.c/loginclientbot   \n",
      "2      815  2024-11-30 02:10:35                                 zoho.com   \n",
      "3   792779  2024-11-30 02:10:35                            kp-velenje.si   \n",
      "4  3157557  2024-09-05 06:43:05            http://119.117.99.166:41825/i   \n",
      "\n",
      "  url_status          last_online            threat                  tags  \\\n",
      "0    offline  2024-10-11 12:23:33  malware_download  32-bit,elf,mips,Mozi   \n",
      "1    offline  2024-09-20 07:22:27  malware_download    elf,ladvix,opendir   \n",
      "2     online  2024-11-30 02:10:35        legitimate                  none   \n",
      "3     online  2024-11-30 02:10:35        legitimate                  none   \n",
      "4    offline  2024-09-10 05:51:25  malware_download  32-bit,elf,mips,Mozi   \n",
      "\n",
      "                            urlhaus_link      reporter  Label  URL_Length  \n",
      "0  https://urlhaus.abuse.ch/url/3230050/      geenensp      1          33  \n",
      "1  https://urlhaus.abuse.ch/url/3177228/         NDA0E      1          39  \n",
      "2                                    NaN  Tranco-58PNN      0           8  \n",
      "3                                    NaN  Tranco-58PNN      0          13  \n",
      "4  https://urlhaus.abuse.ch/url/3157557/      geenensp      1          29  \n"
     ]
    }
   ],
   "source": [
    "df_downsampled['URL_Length'] = df_downsampled['url'].apply(len)\n",
    "print(\"\\nShape of the dataframe:\", df_downsampled.shape)\n",
    "print(df_downsampled.head())"
   ]
  },
  {
   "cell_type": "markdown",
   "id": "42d3fe9a-0594-47f6-9986-84b50b22b7bf",
   "metadata": {},
   "source": [
    "2. URL Depth\n",
    "Description: The number of slashes (/) in the URL path, indicating its depth.\n",
    "Why it's important: Phishing URLs may have a deep directory structure to confuse users about the website's origin."
   ]
  },
  {
   "cell_type": "code",
   "execution_count": 44,
   "id": "ed3ecf32-eca1-4301-bc39-f8df09b4e619",
   "metadata": {},
   "outputs": [
    {
     "name": "stdout",
     "output_type": "stream",
     "text": [
      "\n",
      "Shape of the dataframe: (347774, 12)\n",
      "        id            dateadded                                      url  \\\n",
      "0  3230050  2024-10-11 12:23:33        http://117.209.4.108:57478/bin.sh   \n",
      "1  3177228  2024-09-16 19:43:06  http://154.216.18.121/.c/loginclientbot   \n",
      "2      815  2024-11-30 02:10:35                                 zoho.com   \n",
      "3   792779  2024-11-30 02:10:35                            kp-velenje.si   \n",
      "4  3157557  2024-09-05 06:43:05            http://119.117.99.166:41825/i   \n",
      "\n",
      "  url_status          last_online            threat                  tags  \\\n",
      "0    offline  2024-10-11 12:23:33  malware_download  32-bit,elf,mips,Mozi   \n",
      "1    offline  2024-09-20 07:22:27  malware_download    elf,ladvix,opendir   \n",
      "2     online  2024-11-30 02:10:35        legitimate                  none   \n",
      "3     online  2024-11-30 02:10:35        legitimate                  none   \n",
      "4    offline  2024-09-10 05:51:25  malware_download  32-bit,elf,mips,Mozi   \n",
      "\n",
      "                            urlhaus_link      reporter  Label  URL_Length  \\\n",
      "0  https://urlhaus.abuse.ch/url/3230050/      geenensp      1          33   \n",
      "1  https://urlhaus.abuse.ch/url/3177228/         NDA0E      1          39   \n",
      "2                                    NaN  Tranco-58PNN      0           8   \n",
      "3                                    NaN  Tranco-58PNN      0          13   \n",
      "4  https://urlhaus.abuse.ch/url/3157557/      geenensp      1          29   \n",
      "\n",
      "   URL_Depth  \n",
      "0          3  \n",
      "1          4  \n",
      "2          0  \n",
      "3          0  \n",
      "4          3  \n"
     ]
    }
   ],
   "source": [
    "df_downsampled['URL_Depth'] = df_downsampled['url'].apply(lambda x: x.count('/'))\n",
    "print(\"\\nShape of the dataframe:\", df_downsampled.shape)\n",
    "print(df_downsampled.head())"
   ]
  },
  {
   "cell_type": "markdown",
   "id": "43d1a0a2-8ffc-4e19-9445-d5625019fae3",
   "metadata": {},
   "source": [
    "3. Presence of Suspicious Characters\n",
    "Description: Check for suspicious characters like @, %, =, and ? in the URL.\n",
    "Why it's important: Phishing URLs often contain special characters to manipulate URL parsing and mislead users."
   ]
  },
  {
   "cell_type": "code",
   "execution_count": 47,
   "id": "a4899e24-a5af-4c95-81ac-2b850e2bf9f3",
   "metadata": {},
   "outputs": [
    {
     "name": "stdout",
     "output_type": "stream",
     "text": [
      "\n",
      "Shape of the dataframe: (347774, 16)\n",
      "        id            dateadded                                      url  \\\n",
      "0  3230050  2024-10-11 12:23:33        http://117.209.4.108:57478/bin.sh   \n",
      "1  3177228  2024-09-16 19:43:06  http://154.216.18.121/.c/loginclientbot   \n",
      "2      815  2024-11-30 02:10:35                                 zoho.com   \n",
      "3   792779  2024-11-30 02:10:35                            kp-velenje.si   \n",
      "4  3157557  2024-09-05 06:43:05            http://119.117.99.166:41825/i   \n",
      "\n",
      "  url_status          last_online            threat                  tags  \\\n",
      "0    offline  2024-10-11 12:23:33  malware_download  32-bit,elf,mips,Mozi   \n",
      "1    offline  2024-09-20 07:22:27  malware_download    elf,ladvix,opendir   \n",
      "2     online  2024-11-30 02:10:35        legitimate                  none   \n",
      "3     online  2024-11-30 02:10:35        legitimate                  none   \n",
      "4    offline  2024-09-10 05:51:25  malware_download  32-bit,elf,mips,Mozi   \n",
      "\n",
      "                            urlhaus_link      reporter  Label  URL_Length  \\\n",
      "0  https://urlhaus.abuse.ch/url/3230050/      geenensp      1          33   \n",
      "1  https://urlhaus.abuse.ch/url/3177228/         NDA0E      1          39   \n",
      "2                                    NaN  Tranco-58PNN      0           8   \n",
      "3                                    NaN  Tranco-58PNN      0          13   \n",
      "4  https://urlhaus.abuse.ch/url/3157557/      geenensp      1          29   \n",
      "\n",
      "   URL_Depth  Have_At  Have_Percent  Have_Equals  Have_QuestionMark  \n",
      "0          3        0             0            0                  0  \n",
      "1          4        0             0            0                  0  \n",
      "2          0        0             0            0                  0  \n",
      "3          0        0             0            0                  0  \n",
      "4          3        0             0            0                  0  \n"
     ]
    }
   ],
   "source": [
    "df_downsampled['Have_At'] = df_downsampled['url'].apply(lambda x: 1 if '@' in x else 0)\n",
    "df_downsampled['Have_Percent'] = df_downsampled['url'].apply(lambda x: 1 if '%' in x else 0)\n",
    "df_downsampled['Have_Equals'] = df_downsampled['url'].apply(lambda x: 1 if '=' in x else 0)\n",
    "df_downsampled['Have_QuestionMark'] = df_downsampled['url'].apply(lambda x: 1 if '?' in x else 0)\n",
    "print(\"\\nShape of the dataframe:\", df_downsampled.shape)\n",
    "print(df_downsampled.head())"
   ]
  },
  {
   "cell_type": "markdown",
   "id": "4990daf2-764d-45a8-80f0-93f604752405",
   "metadata": {},
   "source": [
    "4. Number of Subdomains\n",
    "Description: Count the number of subdomains in the URL (i.e., the parts before the domain name).\n",
    "Why it's important: Phishing URLs often use multiple subdomains to mimic legitimate websites."
   ]
  },
  {
   "cell_type": "code",
   "execution_count": 50,
   "id": "80e4f0da-d968-4295-bcba-84de31fec55c",
   "metadata": {},
   "outputs": [
    {
     "name": "stdout",
     "output_type": "stream",
     "text": [
      "\n",
      "Shape of the dataframe: (347774, 17)\n",
      "        id            dateadded                                      url  \\\n",
      "0  3230050  2024-10-11 12:23:33        http://117.209.4.108:57478/bin.sh   \n",
      "1  3177228  2024-09-16 19:43:06  http://154.216.18.121/.c/loginclientbot   \n",
      "2      815  2024-11-30 02:10:35                                 zoho.com   \n",
      "3   792779  2024-11-30 02:10:35                            kp-velenje.si   \n",
      "4  3157557  2024-09-05 06:43:05            http://119.117.99.166:41825/i   \n",
      "\n",
      "  url_status          last_online            threat                  tags  \\\n",
      "0    offline  2024-10-11 12:23:33  malware_download  32-bit,elf,mips,Mozi   \n",
      "1    offline  2024-09-20 07:22:27  malware_download    elf,ladvix,opendir   \n",
      "2     online  2024-11-30 02:10:35        legitimate                  none   \n",
      "3     online  2024-11-30 02:10:35        legitimate                  none   \n",
      "4    offline  2024-09-10 05:51:25  malware_download  32-bit,elf,mips,Mozi   \n",
      "\n",
      "                            urlhaus_link      reporter  Label  URL_Length  \\\n",
      "0  https://urlhaus.abuse.ch/url/3230050/      geenensp      1          33   \n",
      "1  https://urlhaus.abuse.ch/url/3177228/         NDA0E      1          39   \n",
      "2                                    NaN  Tranco-58PNN      0           8   \n",
      "3                                    NaN  Tranco-58PNN      0          13   \n",
      "4  https://urlhaus.abuse.ch/url/3157557/      geenensp      1          29   \n",
      "\n",
      "   URL_Depth  Have_At  Have_Percent  Have_Equals  Have_QuestionMark  \\\n",
      "0          3        0             0            0                  0   \n",
      "1          4        0             0            0                  0   \n",
      "2          0        0             0            0                  0   \n",
      "3          0        0             0            0                  0   \n",
      "4          3        0             0            0                  0   \n",
      "\n",
      "   Num_Subdomains  \n",
      "0               3  \n",
      "1               3  \n",
      "2               0  \n",
      "3               0  \n",
      "4               2  \n"
     ]
    }
   ],
   "source": [
    "# Count the number of subdomains in the URL (excluding the main domain and TLD)\n",
    "df_downsampled['Num_Subdomains'] = df_downsampled['url'].apply(lambda x: len(x.split('//')[1].split('.')[:-2]) if '//' in x else 0)\n",
    "\n",
    "# Display the first few rows with the 'Num_Subdomains' feature\n",
    "print(\"\\nShape of the dataframe:\", df_downsampled.shape)\n",
    "print(df_downsampled.head())"
   ]
  },
  {
   "cell_type": "markdown",
   "id": "bd80e0e9-faba-461d-acf6-cd8727c5064f",
   "metadata": {},
   "source": [
    "5. Check for Suspicious Words in the URL\n",
    "Phishing URLs often contain suspicious or misleading words like \"login\", \"secure\", \"bank\", etc."
   ]
  },
  {
   "cell_type": "code",
   "execution_count": 53,
   "id": "61a4c7d0-abed-4ba9-9310-bd8a0657b316",
   "metadata": {},
   "outputs": [
    {
     "name": "stdout",
     "output_type": "stream",
     "text": [
      "\n",
      "Shape of the dataframe: (347774, 18)\n",
      "        id            dateadded                                      url  \\\n",
      "0  3230050  2024-10-11 12:23:33        http://117.209.4.108:57478/bin.sh   \n",
      "1  3177228  2024-09-16 19:43:06  http://154.216.18.121/.c/loginclientbot   \n",
      "2      815  2024-11-30 02:10:35                                 zoho.com   \n",
      "3   792779  2024-11-30 02:10:35                            kp-velenje.si   \n",
      "4  3157557  2024-09-05 06:43:05            http://119.117.99.166:41825/i   \n",
      "\n",
      "  url_status          last_online            threat                  tags  \\\n",
      "0    offline  2024-10-11 12:23:33  malware_download  32-bit,elf,mips,Mozi   \n",
      "1    offline  2024-09-20 07:22:27  malware_download    elf,ladvix,opendir   \n",
      "2     online  2024-11-30 02:10:35        legitimate                  none   \n",
      "3     online  2024-11-30 02:10:35        legitimate                  none   \n",
      "4    offline  2024-09-10 05:51:25  malware_download  32-bit,elf,mips,Mozi   \n",
      "\n",
      "                            urlhaus_link      reporter  Label  URL_Length  \\\n",
      "0  https://urlhaus.abuse.ch/url/3230050/      geenensp      1          33   \n",
      "1  https://urlhaus.abuse.ch/url/3177228/         NDA0E      1          39   \n",
      "2                                    NaN  Tranco-58PNN      0           8   \n",
      "3                                    NaN  Tranco-58PNN      0          13   \n",
      "4  https://urlhaus.abuse.ch/url/3157557/      geenensp      1          29   \n",
      "\n",
      "   URL_Depth  Have_At  Have_Percent  Have_Equals  Have_QuestionMark  \\\n",
      "0          3        0             0            0                  0   \n",
      "1          4        0             0            0                  0   \n",
      "2          0        0             0            0                  0   \n",
      "3          0        0             0            0                  0   \n",
      "4          3        0             0            0                  0   \n",
      "\n",
      "   Num_Subdomains  Has_Suspicious_Keyword  \n",
      "0               3                       0  \n",
      "1               3                       1  \n",
      "2               0                       0  \n",
      "3               0                       0  \n",
      "4               2                       0  \n"
     ]
    }
   ],
   "source": [
    "# List of suspicious keywords commonly found in phishing URLs\n",
    "suspicious_keywords = ['login', 'secure', 'update', 'account', 'signin', 'verify', 'bank', 'paypal', 'free', 'confirm']\n",
    "\n",
    "# Function to check if any suspicious keyword is in the URL\n",
    "def check_suspicious_keywords(url):\n",
    "    return 1 if any(keyword in url.lower() for keyword in suspicious_keywords) else 0  # Case-insensitive check\n",
    "\n",
    "# Apply the function to the DataFrame and create the 'Has_Suspicious_Keyword' column\n",
    "df_downsampled['Has_Suspicious_Keyword'] = df_downsampled['url'].apply(check_suspicious_keywords)\n",
    "\n",
    "# Display the first few rows of the dataframe to verify\n",
    "print(\"\\nShape of the dataframe:\", df_downsampled.shape)\n",
    "print(df_downsampled.head())"
   ]
  },
  {
   "cell_type": "markdown",
   "id": "f8895cae-e051-437a-ba4e-8d74cc4dc53c",
   "metadata": {},
   "source": [
    "6.Number of IP Addresses in the URL\n",
    "Phishing URLs sometimes use IP addresses instead of domain names. This feature helps identify those URLs."
   ]
  },
  {
   "cell_type": "code",
   "execution_count": 56,
   "id": "0c00d339-44cb-4bbb-b532-f66d05f98613",
   "metadata": {},
   "outputs": [
    {
     "name": "stdout",
     "output_type": "stream",
     "text": [
      "\n",
      "Shape of the dataframe: (347774, 19)\n",
      "        id            dateadded                                      url  \\\n",
      "0  3230050  2024-10-11 12:23:33        http://117.209.4.108:57478/bin.sh   \n",
      "1  3177228  2024-09-16 19:43:06  http://154.216.18.121/.c/loginclientbot   \n",
      "2      815  2024-11-30 02:10:35                                 zoho.com   \n",
      "3   792779  2024-11-30 02:10:35                            kp-velenje.si   \n",
      "4  3157557  2024-09-05 06:43:05            http://119.117.99.166:41825/i   \n",
      "\n",
      "  url_status          last_online            threat                  tags  \\\n",
      "0    offline  2024-10-11 12:23:33  malware_download  32-bit,elf,mips,Mozi   \n",
      "1    offline  2024-09-20 07:22:27  malware_download    elf,ladvix,opendir   \n",
      "2     online  2024-11-30 02:10:35        legitimate                  none   \n",
      "3     online  2024-11-30 02:10:35        legitimate                  none   \n",
      "4    offline  2024-09-10 05:51:25  malware_download  32-bit,elf,mips,Mozi   \n",
      "\n",
      "                            urlhaus_link      reporter  Label  URL_Length  \\\n",
      "0  https://urlhaus.abuse.ch/url/3230050/      geenensp      1          33   \n",
      "1  https://urlhaus.abuse.ch/url/3177228/         NDA0E      1          39   \n",
      "2                                    NaN  Tranco-58PNN      0           8   \n",
      "3                                    NaN  Tranco-58PNN      0          13   \n",
      "4  https://urlhaus.abuse.ch/url/3157557/      geenensp      1          29   \n",
      "\n",
      "   URL_Depth  Have_At  Have_Percent  Have_Equals  Have_QuestionMark  \\\n",
      "0          3        0             0            0                  0   \n",
      "1          4        0             0            0                  0   \n",
      "2          0        0             0            0                  0   \n",
      "3          0        0             0            0                  0   \n",
      "4          3        0             0            0                  0   \n",
      "\n",
      "   Num_Subdomains  Has_Suspicious_Keyword  Has_IP  \n",
      "0               3                       0       1  \n",
      "1               3                       1       1  \n",
      "2               0                       0       0  \n",
      "3               0                       0       0  \n",
      "4               2                       0       1  \n"
     ]
    }
   ],
   "source": [
    "import re\n",
    "\n",
    "# Function to check if URL has an IP address\n",
    "def has_ip(url):\n",
    "    ip_pattern = r'(\\d{1,3}\\.){3}\\d{1,3}'  # Matches typical IP address pattern\n",
    "    return 1 if re.search(ip_pattern, url) else 0  # Return 1 if IP is found, else return 0\n",
    "\n",
    "# Apply the function to the DataFrame and create the 'Has_IP' column\n",
    "df_downsampled['Has_IP'] = df_downsampled['url'].apply(has_ip)\n",
    "print(\"\\nShape of the dataframe:\", df_downsampled.shape)\n",
    "# Display the first few rows of the dataframe to verify\n",
    "print(df_downsampled.head())\n"
   ]
  },
  {
   "cell_type": "markdown",
   "id": "27925fe1-1e03-45ad-8148-a60ab2190f6d",
   "metadata": {},
   "source": [
    "7.Query Parameters Count\n",
    "Phishing URLs often use multiple query parameters to obfuscate their intent."
   ]
  },
  {
   "cell_type": "code",
   "execution_count": 59,
   "id": "8c3a11dd-5ae8-4e25-a4a4-fbaabb3a1e78",
   "metadata": {},
   "outputs": [
    {
     "name": "stdout",
     "output_type": "stream",
     "text": [
      "\n",
      "Shape of the dataframe: (347774, 20)\n",
      "        id            dateadded                                      url  \\\n",
      "0  3230050  2024-10-11 12:23:33        http://117.209.4.108:57478/bin.sh   \n",
      "1  3177228  2024-09-16 19:43:06  http://154.216.18.121/.c/loginclientbot   \n",
      "2      815  2024-11-30 02:10:35                                 zoho.com   \n",
      "3   792779  2024-11-30 02:10:35                            kp-velenje.si   \n",
      "4  3157557  2024-09-05 06:43:05            http://119.117.99.166:41825/i   \n",
      "\n",
      "  url_status          last_online            threat                  tags  \\\n",
      "0    offline  2024-10-11 12:23:33  malware_download  32-bit,elf,mips,Mozi   \n",
      "1    offline  2024-09-20 07:22:27  malware_download    elf,ladvix,opendir   \n",
      "2     online  2024-11-30 02:10:35        legitimate                  none   \n",
      "3     online  2024-11-30 02:10:35        legitimate                  none   \n",
      "4    offline  2024-09-10 05:51:25  malware_download  32-bit,elf,mips,Mozi   \n",
      "\n",
      "                            urlhaus_link      reporter  Label  URL_Length  \\\n",
      "0  https://urlhaus.abuse.ch/url/3230050/      geenensp      1          33   \n",
      "1  https://urlhaus.abuse.ch/url/3177228/         NDA0E      1          39   \n",
      "2                                    NaN  Tranco-58PNN      0           8   \n",
      "3                                    NaN  Tranco-58PNN      0          13   \n",
      "4  https://urlhaus.abuse.ch/url/3157557/      geenensp      1          29   \n",
      "\n",
      "   URL_Depth  Have_At  Have_Percent  Have_Equals  Have_QuestionMark  \\\n",
      "0          3        0             0            0                  0   \n",
      "1          4        0             0            0                  0   \n",
      "2          0        0             0            0                  0   \n",
      "3          0        0             0            0                  0   \n",
      "4          3        0             0            0                  0   \n",
      "\n",
      "   Num_Subdomains  Has_Suspicious_Keyword  Has_IP  Query_Parameter_Count  \n",
      "0               3                       0       1                      0  \n",
      "1               3                       1       1                      0  \n",
      "2               0                       0       0                      0  \n",
      "3               0                       0       0                      0  \n",
      "4               2                       0       1                      0  \n"
     ]
    }
   ],
   "source": [
    "df_downsampled['Query_Parameter_Count'] = df_downsampled['url'].apply(lambda x: x.count('?') + x.count('&'))\n",
    "print(\"\\nShape of the dataframe:\", df_downsampled.shape)\n",
    "print(df_downsampled.head())"
   ]
  },
  {
   "cell_type": "markdown",
   "id": "409be18e-9567-46d4-ac77-db5101881cb6",
   "metadata": {},
   "source": [
    "8.Port Number: Phishing URLs often use non-standard port numbers. This feature captures any port number other than the default HTTP (80) or HTTPS (443)."
   ]
  },
  {
   "cell_type": "code",
   "execution_count": 62,
   "id": "261b31fe-1b81-4631-a79d-a8168b372d32",
   "metadata": {},
   "outputs": [
    {
     "name": "stdout",
     "output_type": "stream",
     "text": [
      "\n",
      "Shape of the dataframe: (347774, 21)\n",
      "        id            dateadded                                      url  \\\n",
      "0  3230050  2024-10-11 12:23:33        http://117.209.4.108:57478/bin.sh   \n",
      "1  3177228  2024-09-16 19:43:06  http://154.216.18.121/.c/loginclientbot   \n",
      "2      815  2024-11-30 02:10:35                                 zoho.com   \n",
      "3   792779  2024-11-30 02:10:35                            kp-velenje.si   \n",
      "4  3157557  2024-09-05 06:43:05            http://119.117.99.166:41825/i   \n",
      "\n",
      "  url_status          last_online            threat                  tags  \\\n",
      "0    offline  2024-10-11 12:23:33  malware_download  32-bit,elf,mips,Mozi   \n",
      "1    offline  2024-09-20 07:22:27  malware_download    elf,ladvix,opendir   \n",
      "2     online  2024-11-30 02:10:35        legitimate                  none   \n",
      "3     online  2024-11-30 02:10:35        legitimate                  none   \n",
      "4    offline  2024-09-10 05:51:25  malware_download  32-bit,elf,mips,Mozi   \n",
      "\n",
      "                            urlhaus_link      reporter  Label  ...  URL_Depth  \\\n",
      "0  https://urlhaus.abuse.ch/url/3230050/      geenensp      1  ...          3   \n",
      "1  https://urlhaus.abuse.ch/url/3177228/         NDA0E      1  ...          4   \n",
      "2                                    NaN  Tranco-58PNN      0  ...          0   \n",
      "3                                    NaN  Tranco-58PNN      0  ...          0   \n",
      "4  https://urlhaus.abuse.ch/url/3157557/      geenensp      1  ...          3   \n",
      "\n",
      "   Have_At  Have_Percent  Have_Equals  Have_QuestionMark  Num_Subdomains  \\\n",
      "0        0             0            0                  0               3   \n",
      "1        0             0            0                  0               3   \n",
      "2        0             0            0                  0               0   \n",
      "3        0             0            0                  0               0   \n",
      "4        0             0            0                  0               2   \n",
      "\n",
      "   Has_Suspicious_Keyword  Has_IP  Query_Parameter_Count  Has_Port  \n",
      "0                       0       1                      0         0  \n",
      "1                       1       1                      0         0  \n",
      "2                       0       0                      0         0  \n",
      "3                       0       0                      0         0  \n",
      "4                       0       1                      0         0  \n",
      "\n",
      "[5 rows x 21 columns]\n"
     ]
    }
   ],
   "source": [
    "def has_non_standard_port(url):\n",
    "    # Check if URL contains a port\n",
    "    if ':' in url:\n",
    "        # Extract the port number\n",
    "        port = url.split(':')[1].split('/')[0]\n",
    "        \n",
    "        # Handle case where the port is empty or invalid\n",
    "        if port:\n",
    "            try:\n",
    "                port_num = int(port)  # Try converting to integer\n",
    "                # Return 1 if the port is not 80 (HTTP) or 443 (HTTPS), otherwise return 0\n",
    "                return 1 if port_num not in [80, 443] else 0\n",
    "            except ValueError:\n",
    "                return 0  # If invalid port, return 0\n",
    "    return 0  # Return 0 if no port is found\n",
    "\n",
    "# Apply the function to the DataFrame\n",
    "df_downsampled['Has_Port'] = df_downsampled['url'].apply(has_non_standard_port)\n",
    "print(\"\\nShape of the dataframe:\", df_downsampled.shape)\n",
    "# Show the result\n",
    "print(df_downsampled.head())\n"
   ]
  },
  {
   "cell_type": "markdown",
   "id": "d6ea0f22-2431-4d96-841f-8202dd6e9068",
   "metadata": {},
   "source": [
    "9. Number of Path Segments Extraction\n",
    " This feature counts the number of segments in the path part of the URL."
   ]
  },
  {
   "cell_type": "code",
   "execution_count": 65,
   "id": "faa381dc-b25f-4813-9b38-5d94157cacba",
   "metadata": {},
   "outputs": [
    {
     "name": "stdout",
     "output_type": "stream",
     "text": [
      "\n",
      "Shape of the dataframe: (347774, 22)\n",
      "        id            dateadded                                      url  \\\n",
      "0  3230050  2024-10-11 12:23:33        http://117.209.4.108:57478/bin.sh   \n",
      "1  3177228  2024-09-16 19:43:06  http://154.216.18.121/.c/loginclientbot   \n",
      "2      815  2024-11-30 02:10:35                                 zoho.com   \n",
      "3   792779  2024-11-30 02:10:35                            kp-velenje.si   \n",
      "4  3157557  2024-09-05 06:43:05            http://119.117.99.166:41825/i   \n",
      "\n",
      "  url_status          last_online            threat                  tags  \\\n",
      "0    offline  2024-10-11 12:23:33  malware_download  32-bit,elf,mips,Mozi   \n",
      "1    offline  2024-09-20 07:22:27  malware_download    elf,ladvix,opendir   \n",
      "2     online  2024-11-30 02:10:35        legitimate                  none   \n",
      "3     online  2024-11-30 02:10:35        legitimate                  none   \n",
      "4    offline  2024-09-10 05:51:25  malware_download  32-bit,elf,mips,Mozi   \n",
      "\n",
      "                            urlhaus_link      reporter  Label  ...  Have_At  \\\n",
      "0  https://urlhaus.abuse.ch/url/3230050/      geenensp      1  ...        0   \n",
      "1  https://urlhaus.abuse.ch/url/3177228/         NDA0E      1  ...        0   \n",
      "2                                    NaN  Tranco-58PNN      0  ...        0   \n",
      "3                                    NaN  Tranco-58PNN      0  ...        0   \n",
      "4  https://urlhaus.abuse.ch/url/3157557/      geenensp      1  ...        0   \n",
      "\n",
      "   Have_Percent  Have_Equals  Have_QuestionMark  Num_Subdomains  \\\n",
      "0             0            0                  0               3   \n",
      "1             0            0                  0               3   \n",
      "2             0            0                  0               0   \n",
      "3             0            0                  0               0   \n",
      "4             0            0                  0               2   \n",
      "\n",
      "   Has_Suspicious_Keyword  Has_IP  Query_Parameter_Count  Has_Port  \\\n",
      "0                       0       1                      0         0   \n",
      "1                       1       1                      0         0   \n",
      "2                       0       0                      0         0   \n",
      "3                       0       0                      0         0   \n",
      "4                       0       1                      0         0   \n",
      "\n",
      "   Num_Path_Segments  \n",
      "0                  1  \n",
      "1                  2  \n",
      "2                  0  \n",
      "3                  0  \n",
      "4                  1  \n",
      "\n",
      "[5 rows x 22 columns]\n"
     ]
    }
   ],
   "source": [
    "def num_path_segments(url):\n",
    "    # Extract the path part of the URL (after the domain)\n",
    "    path = url.split('//')[-1].split('/')[1:]\n",
    "    \n",
    "    # Count the number of path segments\n",
    "    return len(path)\n",
    "\n",
    "# Apply the function to the DataFrame\n",
    "df_downsampled['Num_Path_Segments'] = df_downsampled['url'].apply(num_path_segments)\n",
    "print(\"\\nShape of the dataframe:\", df_downsampled.shape)\n",
    "# Show the result\n",
    "print(df_downsampled.head())"
   ]
  },
  {
   "cell_type": "markdown",
   "id": "011ca591-b310-4a6d-835b-a4e7c8e8b286",
   "metadata": {},
   "source": [
    "10.Presence of URL Shorteners Extraction\n",
    "This feature checks whether the URL contains a shortener domain (like bit.ly, goo.gl, tinyurl.com, etc.), which is a common tactic used by phishing websites to disguise malicious links"
   ]
  },
  {
   "cell_type": "code",
   "execution_count": 68,
   "id": "eb35462f-c07b-4d2c-819e-e737490b5429",
   "metadata": {},
   "outputs": [
    {
     "ename": "NameError",
     "evalue": "name 'balanced_dataset' is not defined",
     "output_type": "error",
     "traceback": [
      "\u001b[0;31m---------------------------------------------------------------------------\u001b[0m",
      "\u001b[0;31mNameError\u001b[0m                                 Traceback (most recent call last)",
      "Cell \u001b[0;32mIn[68], line 40\u001b[0m\n\u001b[1;32m     37\u001b[0m df_downsampled[\u001b[38;5;124m'\u001b[39m\u001b[38;5;124mHas_URL_Shortener\u001b[39m\u001b[38;5;124m'\u001b[39m] \u001b[38;5;241m=\u001b[39m df_downsampled[\u001b[38;5;124m'\u001b[39m\u001b[38;5;124murl\u001b[39m\u001b[38;5;124m'\u001b[39m]\u001b[38;5;241m.\u001b[39mapply(has_url_shortener)\n\u001b[1;32m     39\u001b[0m \u001b[38;5;66;03m# Output results\u001b[39;00m\n\u001b[0;32m---> 40\u001b[0m \u001b[38;5;28mprint\u001b[39m(\u001b[38;5;124m\"\u001b[39m\u001b[38;5;130;01m\\n\u001b[39;00m\u001b[38;5;124mShape of the dataframe:\u001b[39m\u001b[38;5;124m\"\u001b[39m, balanced_dataset\u001b[38;5;241m.\u001b[39mshape)\n\u001b[1;32m     41\u001b[0m \u001b[38;5;28mprint\u001b[39m(df_downsampled[[\u001b[38;5;124m'\u001b[39m\u001b[38;5;124murl\u001b[39m\u001b[38;5;124m'\u001b[39m, \u001b[38;5;124m'\u001b[39m\u001b[38;5;124mHas_HTTPS\u001b[39m\u001b[38;5;124m'\u001b[39m, \u001b[38;5;124m'\u001b[39m\u001b[38;5;124mHas_URL_Shortener\u001b[39m\u001b[38;5;124m'\u001b[39m]]\u001b[38;5;241m.\u001b[39mhead())\n",
      "\u001b[0;31mNameError\u001b[0m: name 'balanced_dataset' is not defined"
     ]
    }
   ],
   "source": [
    "from urllib.parse import urlparse\n",
    "\n",
    "# Function to check if a URL uses a shortener service\n",
    "def has_url_shortener(url):\n",
    "    \"\"\"\n",
    "    Function to check if a URL uses a known URL shortener service.\n",
    "\n",
    "    Args:\n",
    "    url (str): The URL to check.\n",
    "\n",
    "    Returns:\n",
    "    int: 1 if a URL shortener is detected, 0 otherwise.\n",
    "    \"\"\"\n",
    "    shorteners = ['bit.ly', 'goo.gl', 'tinyurl.com', 't.co', 'is.gd']\n",
    "    # Check if any of the shorteners are present in the domain part of the URL\n",
    "    return 1 if any(shortener in url for shortener in shorteners) else 0\n",
    "\n",
    "# Function to check if a URL uses HTTP or HTTPS\n",
    "def check_http_or_https(url):\n",
    "    \"\"\"\n",
    "    Function to check if a URL uses HTTP or HTTPS.\n",
    "\n",
    "    Args:\n",
    "    url (str): The URL to check.\n",
    "\n",
    "    Returns:\n",
    "    int: 1 if HTTPS is present, 0 if HTTP is present, -1 if no scheme.\n",
    "    \"\"\"\n",
    "    parsed_url = urlparse(url)\n",
    "    return 1 if parsed_url.scheme == 'https' else 0 if parsed_url.scheme == 'http' else -1  # -1 for no scheme\n",
    "\n",
    "# Assuming `df_downsampled` is your DataFrame with a column 'url'\n",
    "df_downsampled = df_downsampled.copy()  # Create a new DataFrame named preprocess_dataset\n",
    "\n",
    "# Apply the functions to extract features\n",
    "df_downsampled['Has_HTTPS'] = df_downsampled['url'].apply(check_http_or_https)\n",
    "df_downsampled['Has_URL_Shortener'] = df_downsampled['url'].apply(has_url_shortener)\n",
    "\n",
    "# Output results\n",
    "print(\"\\nShape of the dataframe:\", balanced_dataset.shape)\n",
    "print(df_downsampled[['url', 'Has_HTTPS', 'Has_URL_Shortener']].head())\n",
    "\n"
   ]
  },
  {
   "cell_type": "code",
   "execution_count": null,
   "id": "e2e98b6c-c1fb-4eea-af62-e5d80616edbe",
   "metadata": {},
   "outputs": [],
   "source": []
  },
  {
   "cell_type": "code",
   "execution_count": null,
   "id": "d50a21de-0e72-4a10-962e-6f93812f657e",
   "metadata": {},
   "outputs": [],
   "source": [
    "from urllib.parse import urlparse\n",
    "\n",
    "def check_http_or_https(url):\n",
    "    \"\"\"\n",
    "    Function to check if a URL uses HTTP or HTTPS.\n",
    "\n",
    "    Args:\n",
    "    url (str): The URL to check.\n",
    "\n",
    "    Returns:\n",
    "    int: 1 if HTTPS is present, 0 if HTTP is present.\n",
    "    \"\"\"\n",
    "    parsed_url = urlparse(url)\n",
    "    return 1 if parsed_url.scheme == 'https' else 0 if parsed_url.scheme == 'http' else 1  # -1 for no scheme\n",
    "\n",
    "# Apply the function to the DataFrame\n",
    "df_downsampled = df_downsampled.copy()  # Create a new DataFrame named preprocess_dataset\n",
    "df_downsampled['Has_HTTPS'] = df_downsampled['url'].apply(check_http_or_https)\n",
    "\n",
    "print(\"\\nShape of the dataframe:\", balanced_dataset.shape)\n",
    "# Show the result\n",
    "print(df_downsampled[['url', 'Has_HTTPS']].head())\n"
   ]
  },
  {
   "cell_type": "code",
   "execution_count": null,
   "id": "14bcba7d-4556-499b-86f3-846e0ccae697",
   "metadata": {},
   "outputs": [],
   "source": [
    "def extract_tld_type(url):\n",
    "    suspicious_tlds = ['xyz', 'top', 'club', 'work']\n",
    "    parsed_url = urlparse(url)\n",
    "    domain_parts = parsed_url.netloc.split('.')\n",
    "    tld = domain_parts[-1] if len(domain_parts) > 1 else ''\n",
    "    return 1 if tld in suspicious_tlds else 0\n",
    "\n",
    "df_downsampled['tld_type'] = df_downsampled['url'].apply(extract_tld_type)\n",
    "print(df_downsampled.head())"
   ]
  },
  {
   "cell_type": "code",
   "execution_count": null,
   "id": "e875b87e-d614-4ec0-8d53-5ae5f993978e",
   "metadata": {},
   "outputs": [],
   "source": []
  },
  {
   "cell_type": "code",
   "execution_count": null,
   "id": "bdaae12a-53ff-400c-9b6b-dc156ad03902",
   "metadata": {},
   "outputs": [],
   "source": []
  },
  {
   "cell_type": "code",
   "execution_count": 72,
   "id": "6dfe68b8-4a65-4ba1-ab2e-576c8eae1b42",
   "metadata": {},
   "outputs": [
    {
     "name": "stdout",
     "output_type": "stream",
     "text": [
      "        id            dateadded                                      url  \\\n",
      "0  3230050  2024-10-11 12:23:33        http://117.209.4.108:57478/bin.sh   \n",
      "1  3177228  2024-09-16 19:43:06  http://154.216.18.121/.c/loginclientbot   \n",
      "2      815  2024-11-30 02:10:35                                 zoho.com   \n",
      "3   792779  2024-11-30 02:10:35                            kp-velenje.si   \n",
      "4  3157557  2024-09-05 06:43:05            http://119.117.99.166:41825/i   \n",
      "\n",
      "  url_status          last_online            threat                  tags  \\\n",
      "0    offline  2024-10-11 12:23:33  malware_download  32-bit,elf,mips,Mozi   \n",
      "1    offline  2024-09-20 07:22:27  malware_download    elf,ladvix,opendir   \n",
      "2     online  2024-11-30 02:10:35        legitimate                  none   \n",
      "3     online  2024-11-30 02:10:35        legitimate                  none   \n",
      "4    offline  2024-09-10 05:51:25  malware_download  32-bit,elf,mips,Mozi   \n",
      "\n",
      "                            urlhaus_link      reporter  Label  ...  \\\n",
      "0  https://urlhaus.abuse.ch/url/3230050/      geenensp      1  ...   \n",
      "1  https://urlhaus.abuse.ch/url/3177228/         NDA0E      1  ...   \n",
      "2                                    NaN  Tranco-58PNN      0  ...   \n",
      "3                                    NaN  Tranco-58PNN      0  ...   \n",
      "4  https://urlhaus.abuse.ch/url/3157557/      geenensp      1  ...   \n",
      "\n",
      "   Have_QuestionMark  Num_Subdomains  Has_Suspicious_Keyword  Has_IP  \\\n",
      "0                  0               3                       0       1   \n",
      "1                  0               3                       1       1   \n",
      "2                  0               0                       0       0   \n",
      "3                  0               0                       0       0   \n",
      "4                  0               2                       0       1   \n",
      "\n",
      "   Query_Parameter_Count  Has_Port  Num_Path_Segments  Has_HTTPS  \\\n",
      "0                      0         0                  1          0   \n",
      "1                      0         0                  2          0   \n",
      "2                      0         0                  0         -1   \n",
      "3                      0         0                  0         -1   \n",
      "4                      0         0                  1          0   \n",
      "\n",
      "   Has_URL_Shortener  digit_letter_ratio  \n",
      "0                  0            1.666666  \n",
      "1                  0            0.578947  \n",
      "2                  0            0.000000  \n",
      "3                  0            0.000000  \n",
      "4                  0            3.199999  \n",
      "\n",
      "[5 rows x 25 columns]\n"
     ]
    }
   ],
   "source": [
    "def digit_letter_ratio(url):\n",
    "    letters = sum(c.isalpha() for c in url)\n",
    "    digits = sum(c.isdigit() for c in url)\n",
    "    return digits / (letters + 1e-6)  # Avoid division by zero\n",
    "\n",
    "df_downsampled['digit_letter_ratio'] = df_downsampled['url'].apply(digit_letter_ratio)\n",
    "print(df_downsampled.head())"
   ]
  },
  {
   "cell_type": "code",
   "execution_count": 73,
   "id": "3c38042f-ac52-47fc-80c2-5e1da5e9091c",
   "metadata": {},
   "outputs": [
    {
     "name": "stdout",
     "output_type": "stream",
     "text": [
      "        id            dateadded                                      url  \\\n",
      "0  3230050  2024-10-11 12:23:33        http://117.209.4.108:57478/bin.sh   \n",
      "1  3177228  2024-09-16 19:43:06  http://154.216.18.121/.c/loginclientbot   \n",
      "2      815  2024-11-30 02:10:35                                 zoho.com   \n",
      "3   792779  2024-11-30 02:10:35                            kp-velenje.si   \n",
      "4  3157557  2024-09-05 06:43:05            http://119.117.99.166:41825/i   \n",
      "\n",
      "  url_status          last_online            threat                  tags  \\\n",
      "0    offline  2024-10-11 12:23:33  malware_download  32-bit,elf,mips,Mozi   \n",
      "1    offline  2024-09-20 07:22:27  malware_download    elf,ladvix,opendir   \n",
      "2     online  2024-11-30 02:10:35        legitimate                  none   \n",
      "3     online  2024-11-30 02:10:35        legitimate                  none   \n",
      "4    offline  2024-09-10 05:51:25  malware_download  32-bit,elf,mips,Mozi   \n",
      "\n",
      "                            urlhaus_link      reporter  Label  ...  \\\n",
      "0  https://urlhaus.abuse.ch/url/3230050/      geenensp      1  ...   \n",
      "1  https://urlhaus.abuse.ch/url/3177228/         NDA0E      1  ...   \n",
      "2                                    NaN  Tranco-58PNN      0  ...   \n",
      "3                                    NaN  Tranco-58PNN      0  ...   \n",
      "4  https://urlhaus.abuse.ch/url/3157557/      geenensp      1  ...   \n",
      "\n",
      "   Num_Subdomains  Has_Suspicious_Keyword  Has_IP  Query_Parameter_Count  \\\n",
      "0               3                       0       1                      0   \n",
      "1               3                       1       1                      0   \n",
      "2               0                       0       0                      0   \n",
      "3               0                       0       0                      0   \n",
      "4               2                       0       1                      0   \n",
      "\n",
      "   Has_Port  Num_Path_Segments  Has_HTTPS  Has_URL_Shortener  \\\n",
      "0         0                  1          0                  0   \n",
      "1         0                  2          0                  0   \n",
      "2         0                  0         -1                  0   \n",
      "3         0                  0         -1                  0   \n",
      "4         0                  1          0                  0   \n",
      "\n",
      "   digit_letter_ratio  has_encoded_chars  \n",
      "0            1.666666                  0  \n",
      "1            0.578947                  0  \n",
      "2            0.000000                  0  \n",
      "3            0.000000                  0  \n",
      "4            3.199999                  0  \n",
      "\n",
      "[5 rows x 26 columns]\n"
     ]
    }
   ],
   "source": [
    "def has_encoded_chars(url):\n",
    "    return 1 if '%' in url else 0\n",
    "\n",
    "df_downsampled['has_encoded_chars'] = df_downsampled['url'].apply(has_encoded_chars)\n",
    "\n",
    "print(df_downsampled.head())"
   ]
  },
  {
   "cell_type": "code",
   "execution_count": 74,
   "id": "beedd19b-71aa-415d-9698-b13d8c71a5e8",
   "metadata": {},
   "outputs": [
    {
     "name": "stdout",
     "output_type": "stream",
     "text": [
      "        id            dateadded                                      url  \\\n",
      "0  3230050  2024-10-11 12:23:33        http://117.209.4.108:57478/bin.sh   \n",
      "1  3177228  2024-09-16 19:43:06  http://154.216.18.121/.c/loginclientbot   \n",
      "2      815  2024-11-30 02:10:35                                 zoho.com   \n",
      "3   792779  2024-11-30 02:10:35                            kp-velenje.si   \n",
      "4  3157557  2024-09-05 06:43:05            http://119.117.99.166:41825/i   \n",
      "\n",
      "  url_status          last_online            threat                  tags  \\\n",
      "0    offline  2024-10-11 12:23:33  malware_download  32-bit,elf,mips,Mozi   \n",
      "1    offline  2024-09-20 07:22:27  malware_download    elf,ladvix,opendir   \n",
      "2     online  2024-11-30 02:10:35        legitimate                  none   \n",
      "3     online  2024-11-30 02:10:35        legitimate                  none   \n",
      "4    offline  2024-09-10 05:51:25  malware_download  32-bit,elf,mips,Mozi   \n",
      "\n",
      "                            urlhaus_link      reporter  Label  ...  \\\n",
      "0  https://urlhaus.abuse.ch/url/3230050/      geenensp      1  ...   \n",
      "1  https://urlhaus.abuse.ch/url/3177228/         NDA0E      1  ...   \n",
      "2                                    NaN  Tranco-58PNN      0  ...   \n",
      "3                                    NaN  Tranco-58PNN      0  ...   \n",
      "4  https://urlhaus.abuse.ch/url/3157557/      geenensp      1  ...   \n",
      "\n",
      "   Has_Suspicious_Keyword  Has_IP  Query_Parameter_Count  Has_Port  \\\n",
      "0                       0       1                      0         0   \n",
      "1                       1       1                      0         0   \n",
      "2                       0       0                      0         0   \n",
      "3                       0       0                      0         0   \n",
      "4                       0       1                      0         0   \n",
      "\n",
      "   Num_Path_Segments  Has_HTTPS  Has_URL_Shortener  digit_letter_ratio  \\\n",
      "0                  1          0                  0            1.666666   \n",
      "1                  2          0                  0            0.578947   \n",
      "2                  0         -1                  0            0.000000   \n",
      "3                  0         -1                  0            0.000000   \n",
      "4                  1          0                  0            3.199999   \n",
      "\n",
      "   has_encoded_chars  https_www_combo  \n",
      "0                  0                0  \n",
      "1                  0                0  \n",
      "2                  0                0  \n",
      "3                  0                0  \n",
      "4                  0                0  \n",
      "\n",
      "[5 rows x 27 columns]\n"
     ]
    }
   ],
   "source": [
    "def has_https_www_combo(url):\n",
    "    return 1 if 'https://' in url and 'www.' in url else 0\n",
    "\n",
    "df_downsampled['https_www_combo'] = df_downsampled['url'].apply(has_https_www_combo)\n",
    "print(df_downsampled.head())"
   ]
  },
  {
   "cell_type": "code",
   "execution_count": 76,
   "id": "3927a545-1328-46f8-b58f-102481bf2d95",
   "metadata": {},
   "outputs": [
    {
     "name": "stdout",
     "output_type": "stream",
     "text": [
      "\n",
      "Shape of the dataframe: (347774, 27)\n",
      "Balanced dataset saved successfully!\n"
     ]
    }
   ],
   "source": [
    "# Save the resampled dataset to a CSV file\n",
    "df_downsampled.to_csv('balanced_dataset.csv', index=False)\n",
    "print(\"\\nShape of the dataframe:\", df_downsampled.shape)\n",
    "print(\"Balanced dataset saved successfully!\")"
   ]
  },
  {
   "cell_type": "code",
   "execution_count": 79,
   "id": "0fdf9da8-229a-4ef7-bd19-f8b39c6ec12a",
   "metadata": {},
   "outputs": [
    {
     "name": "stdout",
     "output_type": "stream",
     "text": [
      "<class 'pandas.core.frame.DataFrame'>\n",
      "RangeIndex: 347774 entries, 0 to 347773\n",
      "Data columns (total 27 columns):\n",
      " #   Column                  Non-Null Count   Dtype  \n",
      "---  ------                  --------------   -----  \n",
      " 0   id                      347774 non-null  int64  \n",
      " 1   dateadded               347774 non-null  object \n",
      " 2   url                     347774 non-null  object \n",
      " 3   url_status              347774 non-null  object \n",
      " 4   last_online             330584 non-null  object \n",
      " 5   threat                  347774 non-null  object \n",
      " 6   tags                    343372 non-null  object \n",
      " 7   urlhaus_link            173887 non-null  object \n",
      " 8   reporter                347774 non-null  object \n",
      " 9   Label                   347774 non-null  int64  \n",
      " 10  URL_Length              347774 non-null  int64  \n",
      " 11  URL_Depth               347774 non-null  int64  \n",
      " 12  Have_At                 347774 non-null  int64  \n",
      " 13  Have_Percent            347774 non-null  int64  \n",
      " 14  Have_Equals             347774 non-null  int64  \n",
      " 15  Have_QuestionMark       347774 non-null  int64  \n",
      " 16  Num_Subdomains          347774 non-null  int64  \n",
      " 17  Has_Suspicious_Keyword  347774 non-null  int64  \n",
      " 18  Has_IP                  347774 non-null  int64  \n",
      " 19  Query_Parameter_Count   347774 non-null  int64  \n",
      " 20  Has_Port                347774 non-null  int64  \n",
      " 21  Num_Path_Segments       347774 non-null  int64  \n",
      " 22  Has_HTTPS               347774 non-null  int64  \n",
      " 23  Has_URL_Shortener       347774 non-null  int64  \n",
      " 24  digit_letter_ratio      347774 non-null  float64\n",
      " 25  has_encoded_chars       347774 non-null  int64  \n",
      " 26  https_www_combo         347774 non-null  int64  \n",
      "dtypes: float64(1), int64(18), object(8)\n",
      "memory usage: 71.6+ MB\n"
     ]
    }
   ],
   "source": [
    "df_downsampled.info()"
   ]
  },
  {
   "cell_type": "code",
   "execution_count": null,
   "id": "11e5b347-4708-48d0-b602-f7ccb9a31c1c",
   "metadata": {},
   "outputs": [],
   "source": []
  },
  {
   "cell_type": "code",
   "execution_count": null,
   "id": "55c9fbab-da92-4a42-8ef4-805add0c6d5f",
   "metadata": {},
   "outputs": [],
   "source": []
  },
  {
   "cell_type": "code",
   "execution_count": null,
   "id": "c6866d11-e9ee-4eb7-97c5-76f17494b364",
   "metadata": {},
   "outputs": [],
   "source": []
  }
 ],
 "metadata": {
  "kernelspec": {
   "display_name": "Python 3 (ipykernel)",
   "language": "python",
   "name": "python3"
  },
  "language_info": {
   "codemirror_mode": {
    "name": "ipython",
    "version": 3
   },
   "file_extension": ".py",
   "mimetype": "text/x-python",
   "name": "python",
   "nbconvert_exporter": "python",
   "pygments_lexer": "ipython3",
   "version": "3.12.7"
  }
 },
 "nbformat": 4,
 "nbformat_minor": 5
}
